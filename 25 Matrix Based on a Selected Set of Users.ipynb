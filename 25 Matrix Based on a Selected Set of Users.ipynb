{
 "cells": [
  {
   "cell_type": "markdown",
   "metadata": {
    "collapsed": true
   },
   "source": [
    "## This file:\n",
    "- Imports directories; ones with entries are saved as 'non_empty_folders'.\n",
    "- csv-s with page likes are opened per folder. Only users with at least to likes are retained, and put into dictionaries as values where keys are the approprite page_ids. \n",
    "- Three lists of sparse matrix parameters are build: [row indices], [column indices], [matrix elements]. These lists are needed to build an upper triangular sparse matrix, then a symmetric matrix. "
   ]
  },
  {
   "cell_type": "code",
   "execution_count": 1,
   "metadata": {
    "collapsed": true
   },
   "outputs": [],
   "source": [
    "import glob\n",
    "import os, io\n",
    "import pandas as pd\n",
    "import numpy as np\n",
    "from numpy import genfromtxt\n",
    "import csv\n",
    "import pickle\n",
    "from collections import Counter\n",
    "import time\n",
    "from scipy.sparse import coo_matrix"
   ]
  },
  {
   "cell_type": "code",
   "execution_count": 17,
   "metadata": {
    "collapsed": true
   },
   "outputs": [],
   "source": [
    "directory = \"C://FOLDERS//CEU//Capstone Project//Data//nagykategek\""
   ]
  },
  {
   "cell_type": "code",
   "execution_count": 18,
   "metadata": {
    "collapsed": true
   },
   "outputs": [],
   "source": [
    "folders = os.listdir(directory)"
   ]
  },
  {
   "cell_type": "code",
   "execution_count": 19,
   "metadata": {},
   "outputs": [
    {
     "data": {
      "text/plain": [
       "11879"
      ]
     },
     "execution_count": 19,
     "metadata": {},
     "output_type": "execute_result"
    }
   ],
   "source": [
    "len(folders)"
   ]
  },
  {
   "cell_type": "markdown",
   "metadata": {},
   "source": [
    "<br>\n",
    "### Filtering out empty folders"
   ]
  },
  {
   "cell_type": "code",
   "execution_count": 20,
   "metadata": {},
   "outputs": [
    {
     "name": "stdout",
     "output_type": "stream",
     "text": [
      "Empty folders:  3136 .\n",
      "Not empty folders:  8743 .\n"
     ]
    }
   ],
   "source": [
    "empty = 0\n",
    "not_empty = 0\n",
    "empty_folders = []\n",
    "not_empty_folders = []\n",
    "\n",
    "for i in range(0,len(folders)):\n",
    "    path = directory + \"//\" + folders[i] + \"//*.csv\"\n",
    "    files = glob.glob(path)\n",
    "    if len(files) == 0:\n",
    "        empty = empty +1\n",
    "        empty_folders.append(folders[i])\n",
    "    else:\n",
    "        not_empty = not_empty + 1\n",
    "        not_empty_folders.append(folders[i])\n",
    "\n",
    "print(\"Empty folders: \", empty, \".\")\n",
    "print(\"Not empty folders: \", not_empty, \".\")"
   ]
  },
  {
   "cell_type": "markdown",
   "metadata": {},
   "source": [
    "<br>\n",
    "### Extracting likes"
   ]
  },
  {
   "cell_type": "code",
   "execution_count": 27,
   "metadata": {
    "collapsed": true
   },
   "outputs": [],
   "source": [
    "users = []\n",
    "active_users = []\n",
    "likes = glob.glob(directory + \"//\" + not_empty_folders[20] + \"//*.csv\")\n",
    "for j in range(len(likes)):\n",
    "    df = pd.read_csv(likes[j], delimiter= \";\", names = [\"page_id\", \"post_id\", \"date_stamp\", \"user_id\", \"like\"])\n",
    "    l = df[\"user_id\"].tolist()\n",
    "    users.extend(l)\n",
    "O = Counter(users)\n",
    "for k in O.keys():\n",
    "    if O[k] > 1:\n",
    "        active_users.append(k)"
   ]
  },
  {
   "cell_type": "code",
   "execution_count": 29,
   "metadata": {},
   "outputs": [
    {
     "name": "stdout",
     "output_type": "stream",
     "text": [
      "7434   55651\n"
     ]
    }
   ],
   "source": [
    "print(len(active_users), \" \", len(users))"
   ]
  },
  {
   "cell_type": "code",
   "execution_count": 30,
   "metadata": {
    "collapsed": true
   },
   "outputs": [],
   "source": [
    "page_likes = {}"
   ]
  },
  {
   "cell_type": "code",
   "execution_count": 31,
   "metadata": {},
   "outputs": [
    {
     "name": "stdout",
     "output_type": "stream",
     "text": [
      "2116.3490059375763\n"
     ]
    }
   ],
   "source": [
    "t1 = time.time()\n",
    "\n",
    "for i in range(0, len(not_empty_folders)):\n",
    "    users = []                    # all users who have liked the page\n",
    "    active_users = []             # users who have liked the page at least twice\n",
    "    likes = glob.glob(directory + \"//\" + not_empty_folders[i] + \"//*.csv\")\n",
    "    for j in range(0, len(likes)):\n",
    "        df = pd.read_csv(likes[j], delimiter= \";\", names = [\"page_id\", \"post_id\", \"date_stamp\", \"user_id\", \"like\"])\n",
    "        l = df[\"user_id\"].tolist()\n",
    "        users.extend(l)\n",
    "    O = Counter(users)\n",
    "    for k in O.keys():\n",
    "        if O[k] > 1:\n",
    "            active_users.append(k)\n",
    "    key = not_empty_folders[i]\n",
    "    page_likes[key] = active_users\n",
    "\n",
    "print(time.time() - t1)"
   ]
  },
  {
   "cell_type": "markdown",
   "metadata": {},
   "source": [
    "Some pages don't have a single user who liked them at least twice. In these keys the page_likes dictionary has an empty list as value, so that *len(page_likes[key]) = 0*. Filtering out these keys gives us a new dictionary with those pages where there is at least one user who liked them. "
   ]
  },
  {
   "cell_type": "code",
   "execution_count": 24,
   "metadata": {},
   "outputs": [
    {
     "data": {
      "text/plain": [
       "8394"
      ]
     },
     "execution_count": 24,
     "metadata": {},
     "output_type": "execute_result"
    }
   ],
   "source": [
    "active_users_page_likes = {}\n",
    "\n",
    "for key in page_likes.keys():\n",
    "    if len(page_likes[key]) > 0:\n",
    "        active_users_page_likes[key] = page_likes[key]\n",
    "\n",
    "len(active_users_page_likes)"
   ]
  },
  {
   "cell_type": "code",
   "execution_count": 25,
   "metadata": {
    "collapsed": true
   },
   "outputs": [],
   "source": [
    "f = open(\"C:\\\\FOLDERS\\\\CEU\\\\Capstone Project\\\\Data\\\\active_users_page_likes.pkl\",\"wb\") # dict{page: users with at least 2 click}\n",
    "pickle.dump(active_users_page_likes,f)\n",
    "f.close()"
   ]
  },
  {
   "cell_type": "code",
   "execution_count": 26,
   "metadata": {},
   "outputs": [
    {
     "data": {
      "text/plain": [
       "8394"
      ]
     },
     "execution_count": 26,
     "metadata": {},
     "output_type": "execute_result"
    }
   ],
   "source": [
    "active_page_ids = []\n",
    "\n",
    "for key in active_users_page_likes.keys():\n",
    "    active_page_ids.append(key)\n",
    "    \n",
    "len(active_page_ids)"
   ]
  },
  {
   "cell_type": "code",
   "execution_count": 28,
   "metadata": {
    "collapsed": true
   },
   "outputs": [],
   "source": [
    "np.savetxt(\"C:\\\\FOLDERS\\\\CEU\\\\Capstone Project\\\\Data\\\\active_page_ids.csv\", active_page_ids, delimiter=\",\", fmt='%s')"
   ]
  },
  {
   "cell_type": "markdown",
   "metadata": {
    "collapsed": true
   },
   "source": [
    "<br>\n",
    "### Building the sparse matrices"
   ]
  },
  {
   "cell_type": "code",
   "execution_count": 2,
   "metadata": {
    "collapsed": true
   },
   "outputs": [],
   "source": [
    "# Open pikle file as dictionary. Sort keys and save the values in a dictionary sorted by keys. \n",
    "\n",
    "f = open(\"C:\\\\FOLDERS\\\\CEU\\\\Capstone Project\\\\Data\\\\active_users_page_likes.pkl\", \"rb\")\n",
    "temp = pickle.load(f)\n",
    "f.close()\n",
    "\n",
    "\n",
    "d = sorted(temp.keys())\n",
    "\n",
    "page_likes = {}\n",
    "\n",
    "for i in range(0, len(d)):\n",
    "    key = d[i]\n",
    "    page_likes[key] = temp[key]"
   ]
  },
  {
   "cell_type": "code",
   "execution_count": 3,
   "metadata": {},
   "outputs": [
    {
     "name": "stdout",
     "output_type": "stream",
     "text": [
      "8.273384943736923 hours,  (496.2652068751532, 'minutes.')\n"
     ]
    }
   ],
   "source": [
    "# Build the sparse matrix with the number of common likers. Users should have liked both pages at least twice. \n",
    "\n",
    "r = 0 # the index of the row of the matrix\n",
    "c = 0 # the index of the columns of the matrix\n",
    "row_indices = []\n",
    "column_indices = []\n",
    "matrix_elements = []\n",
    "\n",
    "t1 = time.time()\n",
    "\n",
    "for key_r in page_likes.keys(): # key_r is the key for the rows\n",
    "    x = page_likes[key_r]\n",
    "    for key_c in page_likes.keys(): # key_c is the key for the columns\n",
    "        if c >= r:\n",
    "            y = page_likes[key_c]\n",
    "            common_set = set(x)&set(y)\n",
    "            common_set_size = len(common_set)\n",
    "            if common_set_size > 0:\n",
    "                row_indices.append(r)\n",
    "                column_indices.append(c)\n",
    "                matrix_elements.append(common_set_size)\n",
    "        c = c + 1\n",
    "    r = r + 1\n",
    "    c = 0\n",
    "\n",
    "print((time.time() - t1) / 3600, \"hours, \", ((time.time() - t1 - ((time.time() - t1) / 3600)) / 60, \"minutes.\"))\n",
    "\n",
    "np.savetxt('C:\\\\FOLDERS\\\\CEU\\\\Capstone Project\\\\Data\\\\active_users_mx_row_indices.csv', row_indices, delimiter=',')\n",
    "np.savetxt('C:\\\\FOLDERS\\\\CEU\\\\Capstone Project\\\\Data\\\\active_users_mx_column_indices.csv', column_indices, delimiter=',')\n",
    "np.savetxt('C:\\\\FOLDERS\\\\CEU\\\\Capstone Project\\\\Data\\\\active_users_mx_elements.csv', matrix_elements, delimiter=',')"
   ]
  },
  {
   "cell_type": "markdown",
   "metadata": {},
   "source": [
    "The size of the matrix is the number of diagonal elements, that is where row and column indices are equal. (This is also the length of the two dictionaries of page ids and page likes.)"
   ]
  },
  {
   "cell_type": "code",
   "execution_count": 4,
   "metadata": {},
   "outputs": [
    {
     "data": {
      "text/plain": [
       "8394"
      ]
     },
     "execution_count": 4,
     "metadata": {},
     "output_type": "execute_result"
    }
   ],
   "source": [
    "size = 0\n",
    "\n",
    "for i in range(len(row_indices)):\n",
    "    if row_indices[i] == column_indices[i]:\n",
    "        size += 1\n",
    "size"
   ]
  },
  {
   "cell_type": "code",
   "execution_count": 5,
   "metadata": {
    "collapsed": true
   },
   "outputs": [],
   "source": [
    "# Expand the vectors of upper triangle sparse matrix tovectors of the complete symmetric matrix.\n",
    "\n",
    "row_indices_2 = row_indices\n",
    "column_indices_2 = column_indices\n",
    "matrix_elements_2 = matrix_elements\n",
    "\n",
    "for i in range(0, len(row_indices)):\n",
    "    if row_indices[i] != column_indices[i]:\n",
    "        column_indices_2.append(row_indices[i])\n",
    "        row_indices_2.append(column_indices[i])\n",
    "        matrix_elements_2.append(matrix_elements[i])"
   ]
  },
  {
   "cell_type": "code",
   "execution_count": 6,
   "metadata": {},
   "outputs": [],
   "source": [
    "# Build the sparse matrix object. \n",
    "\n",
    "row2  = np.array(row_indices_2)\n",
    "col2  = np.array(column_indices_2)\n",
    "val2 = np.array(matrix_elements_2)\n",
    "mx = coo_matrix((val2, (row2, col2)), shape=(size, size))"
   ]
  },
  {
   "cell_type": "code",
   "execution_count": 7,
   "metadata": {
    "collapsed": true
   },
   "outputs": [],
   "source": [
    "# Save sparse matrix as npz\n",
    "\n",
    "from scipy.sparse import save_npz\n",
    "save_npz('C:\\\\FOLDERS\\\\CEU\\\\Capstone Project\\\\Data\\\\active_users_sparse_matrix.npz', mx)"
   ]
  },
  {
   "cell_type": "code",
   "execution_count": 8,
   "metadata": {},
   "outputs": [
    {
     "name": "stdout",
     "output_type": "stream",
     "text": [
      "Ratio of non-empty relationships is  35.7  percent out of the total.\n"
     ]
    }
   ],
   "source": [
    "print(\"Ratio of non-empty relationships is \", round(len(val2) / 8394**2*100, 1), \" percent out of the total.\")"
   ]
  },
  {
   "cell_type": "code",
   "execution_count": null,
   "metadata": {
    "collapsed": true
   },
   "outputs": [],
   "source": []
  }
 ],
 "metadata": {
  "kernelspec": {
   "display_name": "Python 3",
   "language": "python",
   "name": "python3"
  },
  "language_info": {
   "codemirror_mode": {
    "name": "ipython",
    "version": 3
   },
   "file_extension": ".py",
   "mimetype": "text/x-python",
   "name": "python",
   "nbconvert_exporter": "python",
   "pygments_lexer": "ipython3",
   "version": "3.6.1"
  }
 },
 "nbformat": 4,
 "nbformat_minor": 2
}
