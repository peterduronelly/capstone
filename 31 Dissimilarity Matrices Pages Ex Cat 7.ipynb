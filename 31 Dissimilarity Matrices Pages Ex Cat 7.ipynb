{
 "cells": [
  {
   "cell_type": "code",
   "execution_count": 10,
   "metadata": {
    "collapsed": true
   },
   "outputs": [],
   "source": [
    "from scipy.sparse import coo_matrix\n",
    "from scipy.sparse import save_npz, load_npz\n",
    "%matplotlib inline\n",
    "import matplotlib\n",
    "import matplotlib.pyplot as plt\n",
    "import numpy as np\n",
    "import pandas as pd\n",
    "from scipy.cluster.hierarchy import linkage, dendrogram, fcluster\n",
    "import pickle\n",
    "import time\n",
    "from scipy import spatial"
   ]
  },
  {
   "cell_type": "markdown",
   "metadata": {},
   "source": [
    "<span> 1. </span> Import sparse symmetric matrix."
   ]
  },
  {
   "cell_type": "code",
   "execution_count": 2,
   "metadata": {
    "collapsed": true
   },
   "outputs": [],
   "source": [
    "mx = load_npz('C:\\\\FOLDERS\\\\CEU\\\\Capstone Project\\\\Data\\\\active_users_sparse_matrix_ex_7.npz')"
   ]
  },
  {
   "cell_type": "code",
   "execution_count": 3,
   "metadata": {
    "collapsed": true
   },
   "outputs": [],
   "source": [
    "mx_array = mx.toarray()"
   ]
  },
  {
   "cell_type": "markdown",
   "metadata": {},
   "source": [
    "<span>2.</span> Retreive categories data, omit cat 7, and sort pages in alphabetical order. "
   ]
  },
  {
   "cell_type": "code",
   "execution_count": 4,
   "metadata": {
    "collapsed": true
   },
   "outputs": [],
   "source": [
    "g = open(\"page_categories.pkl\", \"rb\")\n",
    "page_categories = pickle.load(g)\n",
    "g.close()\n",
    "\n",
    "f = open(\"C:\\\\FOLDERS\\\\CEU\\\\Capstone Project\\\\Data\\\\active_users_page_likes.pkl\", \"rb\")\n",
    "temp = pickle.load(f)\n",
    "f.close()\n",
    "\n",
    "active_page_ids = []\n",
    "\n",
    "for key in temp.keys():\n",
    "    active_page_ids.append(key)\n",
    "\n",
    "active_page_ids = sorted(active_page_ids)\n",
    "\n",
    "active_page_categories = {}\n",
    "\n",
    "for key in page_categories.keys():\n",
    "    if key in active_page_ids:\n",
    "        active_page_categories[key] = page_categories[key]\n",
    "        \n",
    "active_page_categories_ex_7 = {}\n",
    "\n",
    "for key in active_page_categories.keys():\n",
    "    if active_page_categories[key] != 7:\n",
    "        active_page_categories_ex_7[key] = active_page_categories[key]"
   ]
  },
  {
   "cell_type": "markdown",
   "metadata": {},
   "source": [
    "<span>3.</span> Save page categories dict as pickle for later use."
   ]
  },
  {
   "cell_type": "code",
   "execution_count": 9,
   "metadata": {
    "collapsed": true
   },
   "outputs": [],
   "source": [
    "f = open(\"C:\\\\FOLDERS\\\\CEU\\\\Capstone Project\\\\Data\\\\active_page_categories_ex_7.pkl\", \"wb\")\n",
    "pickle.dump(active_page_categories_ex_7,f)\n",
    "f.close()"
   ]
  },
  {
   "cell_type": "code",
   "execution_count": 4,
   "metadata": {
    "collapsed": true
   },
   "outputs": [],
   "source": [
    "f = open(\"C:\\\\FOLDERS\\\\CEU\\\\Capstone Project\\\\Data\\\\active_page_categories_ex_7.pkl\", \"rb\")\n",
    "active_page_categories_ex_7 = pickle.load(f)\n",
    "f.close()"
   ]
  },
  {
   "cell_type": "code",
   "execution_count": 5,
   "metadata": {
    "collapsed": true
   },
   "outputs": [],
   "source": [
    "categories = []\n",
    "\n",
    "for key in active_page_categories_ex_7:\n",
    "    categories.append(active_page_categories_ex_7[key])"
   ]
  },
  {
   "cell_type": "code",
   "execution_count": 6,
   "metadata": {},
   "outputs": [
    {
     "data": {
      "text/plain": [
       "5911"
      ]
     },
     "execution_count": 6,
     "metadata": {},
     "output_type": "execute_result"
    }
   ],
   "source": [
    "len(categories)"
   ]
  },
  {
   "cell_type": "code",
   "execution_count": 7,
   "metadata": {
    "collapsed": true
   },
   "outputs": [],
   "source": [
    "mx_corr = np.zeros((5911, 5911))\n",
    "mx_diss = np.zeros((5911, 5911))\n",
    "mx_cos =  np.zeros((5911, 5911))"
   ]
  },
  {
   "cell_type": "code",
   "execution_count": 8,
   "metadata": {},
   "outputs": [
    {
     "name": "stdout",
     "output_type": "stream",
     "text": [
      "18.1 1\n"
     ]
    }
   ],
   "source": [
    "t1 = time.time()\n",
    "\n",
    "for i in range(0,5910):\n",
    "    for j in range(i+1, 5911):\n",
    "        mx_diss[i,j] = 100 - 100 * int(mx_array[i,j]) * int(mx_array[i,j]) / (int(np.max(mx_array[i,:])) * int(np.max(mx_array[:,j])))\n",
    "\n",
    "print(round(time.time()-t1) / 60, 1)\n"
   ]
  },
  {
   "cell_type": "code",
   "execution_count": 11,
   "metadata": {},
   "outputs": [
    {
     "name": "stdout",
     "output_type": "stream",
     "text": [
      "30.883333333333333 1\n"
     ]
    }
   ],
   "source": [
    "t1 = time.time()\n",
    "\n",
    "for i in range(0,5910):\n",
    "    for j in range(i+1, 5911):\n",
    "        mx_cos[i,j] = 100 * spatial.distance.cosine(mx_array[i,:], mx_array[:,j])\n",
    "\n",
    "print(round(time.time()-t1) / 60, 1)"
   ]
  },
  {
   "cell_type": "code",
   "execution_count": 13,
   "metadata": {},
   "outputs": [
    {
     "name": "stdout",
     "output_type": "stream",
     "text": [
      "47.71666666666667 1\n"
     ]
    }
   ],
   "source": [
    "t1 = time.time()\n",
    "\n",
    "for i in range(0, 5910):\n",
    "    for j in range(i+1, 5911):\n",
    "        mx_corr[i,j] = 1 - np.corrcoef(mx_array[i, :], mx_array[: , j])[1,0]\n",
    "\n",
    "print(round(time.time()-t1) / 60, 1)"
   ]
  },
  {
   "cell_type": "code",
   "execution_count": 14,
   "metadata": {},
   "outputs": [],
   "source": [
    "np.savetxt(\"C:\\\\FOLDERS\\\\CEU\\\\Capstone Project\\\\Data\\\\active_users_ex_7_mx_correlation_dissimilarity.gz\",\n",
    "           mx_corr, delimiter=',')"
   ]
  },
  {
   "cell_type": "code",
   "execution_count": 15,
   "metadata": {
    "collapsed": true
   },
   "outputs": [],
   "source": [
    "np.savetxt(\"C:\\\\FOLDERS\\\\CEU\\\\Capstone Project\\\\Data\\\\active_users_ex_7_mx_cosine_dissimilarity.gz\",\n",
    "           mx_cos, delimiter=',')"
   ]
  },
  {
   "cell_type": "code",
   "execution_count": 16,
   "metadata": {
    "collapsed": true
   },
   "outputs": [],
   "source": [
    "np.savetxt(\"C:\\\\FOLDERS\\\\CEU\\\\Capstone Project\\\\Data\\\\active_users_ex_7_mx_square_dissimilarity.gz\",\n",
    "           mx_diss, delimiter=',')"
   ]
  },
  {
   "cell_type": "code",
   "execution_count": null,
   "metadata": {
    "collapsed": true
   },
   "outputs": [],
   "source": []
  }
 ],
 "metadata": {
  "kernelspec": {
   "display_name": "Python 3",
   "language": "python",
   "name": "python3"
  },
  "language_info": {
   "codemirror_mode": {
    "name": "ipython",
    "version": 3
   },
   "file_extension": ".py",
   "mimetype": "text/x-python",
   "name": "python",
   "nbconvert_exporter": "python",
   "pygments_lexer": "ipython3",
   "version": "3.6.1"
  }
 },
 "nbformat": 4,
 "nbformat_minor": 2
}
