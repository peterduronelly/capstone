{
 "cells": [
  {
   "cell_type": "markdown",
   "metadata": {
    "collapsed": true
   },
   "source": [
    "### This file\n",
    "- Imports two dictionaries:\n",
    "    - page_likes\n",
    "    - page_categories\n",
    "- It orders them and checks whether they have the same keys in the same order.\n",
    "- Iterates through the pages and and pairs each page with every other. Finds the number of common likes, puts their numbers to a list and records their position in the matrix as lists of raw and column indices.\n",
    "- It uses the three lists to construct a COO sparse matrix."
   ]
  },
  {
   "cell_type": "code",
   "execution_count": 1,
   "metadata": {
    "collapsed": true
   },
   "outputs": [],
   "source": [
    "import pickle\n",
    "import numpy as np\n",
    "from scipy.sparse import coo_matrix\n",
    "%matplotlib inline\n",
    "import matplotlib.pyplot as plt"
   ]
  },
  {
   "cell_type": "markdown",
   "metadata": {},
   "source": [
    "<br>Import '*page_likes*' dictionary. Sort by keys."
   ]
  },
  {
   "cell_type": "code",
   "execution_count": 2,
   "metadata": {
    "collapsed": true
   },
   "outputs": [],
   "source": [
    "f = open(\"page_likes.pkl\", \"rb\")\n",
    "temp = pickle.load(f)\n",
    "f.close()"
   ]
  },
  {
   "cell_type": "code",
   "execution_count": 3,
   "metadata": {
    "collapsed": true
   },
   "outputs": [],
   "source": [
    "d = sorted(temp.keys())"
   ]
  },
  {
   "cell_type": "code",
   "execution_count": 4,
   "metadata": {
    "collapsed": true
   },
   "outputs": [],
   "source": [
    "page_likes = {}\n",
    "\n",
    "for i in range(0, len(d)):\n",
    "    key = d[i]\n",
    "    page_likes[key] = temp[key]"
   ]
  },
  {
   "cell_type": "markdown",
   "metadata": {},
   "source": [
    "<br>Import '*page_categories*' dictionaries. Sort by keys."
   ]
  },
  {
   "cell_type": "code",
   "execution_count": 5,
   "metadata": {
    "collapsed": true
   },
   "outputs": [],
   "source": [
    "g = open(\"page_categories.pkl\", \"rb\")\n",
    "temp = pickle.load(g)\n",
    "g.close()"
   ]
  },
  {
   "cell_type": "code",
   "execution_count": 6,
   "metadata": {
    "collapsed": true
   },
   "outputs": [],
   "source": [
    "e = sorted(temp.keys())"
   ]
  },
  {
   "cell_type": "markdown",
   "metadata": {},
   "source": [
    "<br>Compare keys. It will be important later to compare the sparse matrix and the labels. "
   ]
  },
  {
   "cell_type": "code",
   "execution_count": 7,
   "metadata": {},
   "outputs": [
    {
     "data": {
      "text/plain": [
       "0"
      ]
     },
     "execution_count": 7,
     "metadata": {},
     "output_type": "execute_result"
    }
   ],
   "source": [
    "diff = 0\n",
    "for i in range(0, len(d)):\n",
    "    if e[i] != d[i]:\n",
    "        diff = diff + 1\n",
    "diff"
   ]
  },
  {
   "cell_type": "markdown",
   "metadata": {},
   "source": [
    "The two dictionaires have the same keys in the same order. "
   ]
  },
  {
   "cell_type": "markdown",
   "metadata": {},
   "source": [
    "<br> \n",
    "### Building the sparse matrix\n",
    "\n",
    "We iterate through the dictionary, pairing each key with every other key. This will result in 8743 x 8743 pairs. In all pairs, we find the common set of user_ids and check the size of this set. If the size is larger than zeo (the set is not empty) we add the size of this set to the list of sparse matrix elements, and its location (raw and column index) is recorded in the list of *row_indices* and *column_indices*. The location of the element will be the location of the page_ids in the page_id list. "
   ]
  },
  {
   "cell_type": "code",
   "execution_count": null,
   "metadata": {
    "collapsed": true
   },
   "outputs": [],
   "source": [
    "r = 0 # the index of the row of the matrix\n",
    "c = 0 # the index of the columns of the matrix\n",
    "row_indices = []\n",
    "column_indices = []\n",
    "matrix_elements = []\n",
    "\n",
    "for key_r in page_likes.keys(): # key_r is the key for the rows\n",
    "    x = page_likes[key_r]\n",
    "    for key_c in page_likes.keys(): # key_c is the key for the columns\n",
    "        y = page_likes[key_c]\n",
    "        common_set = [i for i in x if i in y]\n",
    "        common_set_size = len(common_set)\n",
    "        if common_set_size > 0:\n",
    "            row_indices.append(r)\n",
    "            column_indices.append(c)\n",
    "            matrix_elements.append(common_set_size)\n",
    "        c = c + 1\n",
    "    r = r + 1\n",
    "    c = 0"
   ]
  },
  {
   "cell_type": "markdown",
   "metadata": {},
   "source": [
    "Build the sparse matrix in COO format."
   ]
  },
  {
   "cell_type": "code",
   "execution_count": 18,
   "metadata": {
    "collapsed": true
   },
   "outputs": [],
   "source": [
    "row = np.array(row_indices)\n",
    "column = np.array(column_indices)\n",
    "data = np.array(matrix_elements)\n",
    "\n",
    "mx = coo_matrix(data, (row, column), shape=(8743, 8743))"
   ]
  },
  {
   "cell_type": "code",
   "execution_count": null,
   "metadata": {
    "collapsed": true
   },
   "outputs": [],
   "source": []
  }
 ],
 "metadata": {
  "kernelspec": {
   "display_name": "Python 3",
   "language": "python",
   "name": "python3"
  },
  "language_info": {
   "codemirror_mode": {
    "name": "ipython",
    "version": 3
   },
   "file_extension": ".py",
   "mimetype": "text/x-python",
   "name": "python",
   "nbconvert_exporter": "python",
   "pygments_lexer": "ipython3",
   "version": "3.6.1"
  }
 },
 "nbformat": 4,
 "nbformat_minor": 2
}
