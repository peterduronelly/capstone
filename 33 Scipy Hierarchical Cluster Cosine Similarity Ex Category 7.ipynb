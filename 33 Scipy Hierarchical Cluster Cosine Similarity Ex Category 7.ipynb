{
 "cells": [
  {
   "cell_type": "code",
   "execution_count": 1,
   "metadata": {
    "collapsed": true
   },
   "outputs": [],
   "source": [
    "from scipy.sparse import coo_matrix\n",
    "from scipy.sparse import save_npz, load_npz\n",
    "%matplotlib inline\n",
    "import matplotlib\n",
    "import matplotlib.pyplot as plt\n",
    "import numpy as np\n",
    "import pandas as pd\n",
    "from scipy.cluster.hierarchy import linkage, dendrogram, fcluster\n",
    "import pickle"
   ]
  },
  {
   "cell_type": "markdown",
   "metadata": {},
   "source": [
    "<span>1.</span> Import category labels."
   ]
  },
  {
   "cell_type": "code",
   "execution_count": 2,
   "metadata": {
    "collapsed": true
   },
   "outputs": [],
   "source": [
    "f = open(\"C:\\\\FOLDERS\\\\CEU\\\\Capstone Project\\\\Data\\\\active_page_categories_ex_7.pkl\", \"rb\")\n",
    "active_page_categories_ex_7 = pickle.load(f)\n",
    "f.close()\n",
    "categories = []\n",
    "\n",
    "for key in active_page_categories_ex_7:\n",
    "    categories.append(active_page_categories_ex_7[key])"
   ]
  },
  {
   "cell_type": "markdown",
   "metadata": {},
   "source": [
    "<span>2.</span> Import dissimilarity matrix and exptract upper triangle. "
   ]
  },
  {
   "cell_type": "code",
   "execution_count": 3,
   "metadata": {
    "collapsed": true
   },
   "outputs": [],
   "source": [
    "mx_cos = np.loadtxt(\"C:\\\\FOLDERS\\\\CEU\\\\Capstone Project\\\\Data\\\\active_users_ex_7_mx_cosine_dissimilarity.gz\", delimiter=',')"
   ]
  },
  {
   "cell_type": "code",
   "execution_count": 4,
   "metadata": {
    "collapsed": true
   },
   "outputs": [],
   "source": [
    "l = [] # list for upper triangular (ex-diagonal) values\n",
    "\n",
    "for i in range(0, mx_cos.shape[0]):\n",
    "    for j in range(i + 1, mx_cos.shape[0]):\n",
    "        l.append(mx_cos[i,j])"
   ]
  },
  {
   "cell_type": "markdown",
   "metadata": {},
   "source": [
    "One value is slightly negative, most likely for rounding issues. "
   ]
  },
  {
   "cell_type": "code",
   "execution_count": 17,
   "metadata": {},
   "outputs": [
    {
     "name": "stdout",
     "output_type": "stream",
     "text": [
      "-2.22044604925e-14\n"
     ]
    }
   ],
   "source": [
    "negative = 0\n",
    "for i in range(len(l)):\n",
    "    if l[i] <0:\n",
    "        negative += 1\n",
    "        print(l[i])"
   ]
  },
  {
   "cell_type": "markdown",
   "metadata": {},
   "source": [
    "Reaplcing the negative number with zero. "
   ]
  },
  {
   "cell_type": "code",
   "execution_count": 16,
   "metadata": {},
   "outputs": [],
   "source": [
    "l_2 = [x if x >= 0 else 0 for x in l]"
   ]
  },
  {
   "cell_type": "markdown",
   "metadata": {},
   "source": [
    "<span>3. Run model for 7 clusters.</span>"
   ]
  },
  {
   "cell_type": "markdown",
   "metadata": {},
   "source": [
    "- ward"
   ]
  },
  {
   "cell_type": "code",
   "execution_count": 18,
   "metadata": {
    "collapsed": true
   },
   "outputs": [],
   "source": [
    "Z = linkage(l_2, method=\"ward\")"
   ]
  },
  {
   "cell_type": "code",
   "execution_count": 19,
   "metadata": {},
   "outputs": [
    {
     "data": {
      "text/html": [
       "<div>\n",
       "<style>\n",
       "    .dataframe thead tr:only-child th {\n",
       "        text-align: right;\n",
       "    }\n",
       "\n",
       "    .dataframe thead th {\n",
       "        text-align: left;\n",
       "    }\n",
       "\n",
       "    .dataframe tbody tr th {\n",
       "        vertical-align: top;\n",
       "    }\n",
       "</style>\n",
       "<table border=\"1\" class=\"dataframe\">\n",
       "  <thead>\n",
       "    <tr style=\"text-align: right;\">\n",
       "      <th>category</th>\n",
       "      <th>1</th>\n",
       "      <th>2</th>\n",
       "      <th>3</th>\n",
       "      <th>4</th>\n",
       "      <th>5</th>\n",
       "      <th>6</th>\n",
       "      <th>8</th>\n",
       "    </tr>\n",
       "    <tr>\n",
       "      <th>labels</th>\n",
       "      <th></th>\n",
       "      <th></th>\n",
       "      <th></th>\n",
       "      <th></th>\n",
       "      <th></th>\n",
       "      <th></th>\n",
       "      <th></th>\n",
       "    </tr>\n",
       "  </thead>\n",
       "  <tbody>\n",
       "    <tr>\n",
       "      <th>1</th>\n",
       "      <td>520</td>\n",
       "      <td>6</td>\n",
       "      <td>2</td>\n",
       "      <td>0</td>\n",
       "      <td>2</td>\n",
       "      <td>17</td>\n",
       "      <td>19</td>\n",
       "    </tr>\n",
       "    <tr>\n",
       "      <th>2</th>\n",
       "      <td>31</td>\n",
       "      <td>3</td>\n",
       "      <td>1</td>\n",
       "      <td>2</td>\n",
       "      <td>1</td>\n",
       "      <td>19</td>\n",
       "      <td>459</td>\n",
       "    </tr>\n",
       "    <tr>\n",
       "      <th>3</th>\n",
       "      <td>78</td>\n",
       "      <td>6</td>\n",
       "      <td>2</td>\n",
       "      <td>2</td>\n",
       "      <td>3</td>\n",
       "      <td>391</td>\n",
       "      <td>149</td>\n",
       "    </tr>\n",
       "    <tr>\n",
       "      <th>4</th>\n",
       "      <td>21</td>\n",
       "      <td>53</td>\n",
       "      <td>322</td>\n",
       "      <td>38</td>\n",
       "      <td>12</td>\n",
       "      <td>281</td>\n",
       "      <td>33</td>\n",
       "    </tr>\n",
       "    <tr>\n",
       "      <th>5</th>\n",
       "      <td>62</td>\n",
       "      <td>9</td>\n",
       "      <td>1</td>\n",
       "      <td>2</td>\n",
       "      <td>38</td>\n",
       "      <td>101</td>\n",
       "      <td>40</td>\n",
       "    </tr>\n",
       "    <tr>\n",
       "      <th>6</th>\n",
       "      <td>2</td>\n",
       "      <td>0</td>\n",
       "      <td>127</td>\n",
       "      <td>1</td>\n",
       "      <td>1</td>\n",
       "      <td>8</td>\n",
       "      <td>1</td>\n",
       "    </tr>\n",
       "    <tr>\n",
       "      <th>7</th>\n",
       "      <td>784</td>\n",
       "      <td>229</td>\n",
       "      <td>123</td>\n",
       "      <td>71</td>\n",
       "      <td>420</td>\n",
       "      <td>1275</td>\n",
       "      <td>143</td>\n",
       "    </tr>\n",
       "  </tbody>\n",
       "</table>\n",
       "</div>"
      ],
      "text/plain": [
       "category    1    2    3   4    5     6    8\n",
       "labels                                     \n",
       "1         520    6    2   0    2    17   19\n",
       "2          31    3    1   2    1    19  459\n",
       "3          78    6    2   2    3   391  149\n",
       "4          21   53  322  38   12   281   33\n",
       "5          62    9    1   2   38   101   40\n",
       "6           2    0  127   1    1     8    1\n",
       "7         784  229  123  71  420  1275  143"
      ]
     },
     "execution_count": 19,
     "metadata": {},
     "output_type": "execute_result"
    }
   ],
   "source": [
    "k=7\n",
    "scipy_hier_labels = fcluster(Z, k, criterion='maxclust')\n",
    "page_labels = pd.DataFrame(scipy_hier_labels, columns=[\"labels\"])\n",
    "cat = pd.Series(categories)\n",
    "page_labels['category'] = cat.values\n",
    "ct = pd.crosstab(page_labels[\"labels\"], page_labels[\"category\"])\n",
    "ct"
   ]
  },
  {
   "cell_type": "code",
   "execution_count": 20,
   "metadata": {},
   "outputs": [
    {
     "data": {
      "image/png": "[encoded data removed]",
      "text/plain": [
       "<matplotlib.figure.Figure at 0x1d28ae4e048>"
      ]
     },
     "metadata": {},
     "output_type": "display_data"
    }
   ],
   "source": [
    "clusters = []\n",
    "\n",
    "for i in range(0,7):\n",
    "    clusters.append(ct.iloc[i].tolist())\n",
    "\n",
    "fig, axes = plt.subplots(7, 1, figsize = (10,20))\n",
    "fig.subplots_adjust(hspace = .3, wspace=.2)\n",
    "fig.suptitle(\"Cluster Assignments vs Original Labels\")\n",
    "axes = axes.ravel()\n",
    "for i in range(7):\n",
    "    axes[i].bar([1,2,3,4,5,6,8], clusters[i], color = 'k')\n",
    "    axes[i].set_title(\"Cluster \" + str(i+1))\n",
    "    axes[i].set_xticks([1,2,3,4,5,6,8])\n"
   ]
  },
  {
   "cell_type": "code",
   "execution_count": 21,
   "metadata": {},
   "outputs": [
    {
     "data": {
      "text/html": [
       "<div>\n",
       "<style>\n",
       "    .dataframe thead tr:only-child th {\n",
       "        text-align: right;\n",
       "    }\n",
       "\n",
       "    .dataframe thead th {\n",
       "        text-align: left;\n",
       "    }\n",
       "\n",
       "    .dataframe tbody tr th {\n",
       "        vertical-align: top;\n",
       "    }\n",
       "</style>\n",
       "<table border=\"1\" class=\"dataframe\">\n",
       "  <thead>\n",
       "    <tr style=\"text-align: right;\">\n",
       "      <th></th>\n",
       "      <th>cluster label</th>\n",
       "      <th>most frequent original category within the cluster</th>\n",
       "      <th>its relative frequency</th>\n",
       "    </tr>\n",
       "  </thead>\n",
       "  <tbody>\n",
       "    <tr>\n",
       "      <th>0</th>\n",
       "      <td>1</td>\n",
       "      <td>1</td>\n",
       "      <td>0.919</td>\n",
       "    </tr>\n",
       "    <tr>\n",
       "      <th>1</th>\n",
       "      <td>2</td>\n",
       "      <td>8</td>\n",
       "      <td>0.890</td>\n",
       "    </tr>\n",
       "    <tr>\n",
       "      <th>2</th>\n",
       "      <td>3</td>\n",
       "      <td>6</td>\n",
       "      <td>0.620</td>\n",
       "    </tr>\n",
       "    <tr>\n",
       "      <th>3</th>\n",
       "      <td>4</td>\n",
       "      <td>3</td>\n",
       "      <td>0.424</td>\n",
       "    </tr>\n",
       "    <tr>\n",
       "      <th>4</th>\n",
       "      <td>5</td>\n",
       "      <td>6</td>\n",
       "      <td>0.399</td>\n",
       "    </tr>\n",
       "    <tr>\n",
       "      <th>5</th>\n",
       "      <td>6</td>\n",
       "      <td>3</td>\n",
       "      <td>0.907</td>\n",
       "    </tr>\n",
       "    <tr>\n",
       "      <th>6</th>\n",
       "      <td>7</td>\n",
       "      <td>6</td>\n",
       "      <td>0.419</td>\n",
       "    </tr>\n",
       "  </tbody>\n",
       "</table>\n",
       "</div>"
      ],
      "text/plain": [
       "   cluster label  most frequent original category within the cluster  \\\n",
       "0              1                                                  1    \n",
       "1              2                                                  8    \n",
       "2              3                                                  6    \n",
       "3              4                                                  3    \n",
       "4              5                                                  6    \n",
       "5              6                                                  3    \n",
       "6              7                                                  6    \n",
       "\n",
       "   its relative frequency  \n",
       "0                   0.919  \n",
       "1                   0.890  \n",
       "2                   0.620  \n",
       "3                   0.424  \n",
       "4                   0.399  \n",
       "5                   0.907  \n",
       "6                   0.419  "
      ]
     },
     "execution_count": 21,
     "metadata": {},
     "output_type": "execute_result"
    }
   ],
   "source": [
    "ctt = ct.T\n",
    "lbls = list(range(1,8)) # labels given by the clustering method\n",
    "c = []                  # the most frequent original category within that label\n",
    "f = []                  # the frequency on that category within that particular cluster\n",
    "\n",
    "for i in range(1,8):\n",
    "    m = max(ctt[i])\n",
    "    pdind = pd.Index(ctt[i])\n",
    "    freq = m / sum(ctt[i])\n",
    "    loc = pdind.get_loc(m)\n",
    "    if loc == 6:        # as the original category of 7 was dropped, category 8 follows category 6\n",
    "        c.append(loc + 2)\n",
    "    else:\n",
    "        c.append(loc + 1)\n",
    "    f.append(round(freq,3))\n",
    "\n",
    "assignment = pd.DataFrame({\"cluster label\": lbls,\n",
    "                          \"most frequent original category within the cluster\": c,\n",
    "                          \"its relative frequency\": f})\n",
    "assignment = assignment[[\"cluster label\", \n",
    "                         \"most frequent original category within the cluster\",\n",
    "                        \"its relative frequency\"]]\n",
    "assignment"
   ]
  },
  {
   "cell_type": "code",
   "execution_count": 22,
   "metadata": {
    "scrolled": true
   },
   "outputs": [
    {
     "data": {
      "image/png": "[encoded data removed]",
      "text/plain": [
       "<matplotlib.figure.Figure at 0x1d2ab40fcc0>"
      ]
     },
     "metadata": {},
     "output_type": "display_data"
    }
   ],
   "source": [
    "plt.title('Hierarchical Clustering Dendrogram (truncated)\\nLinkage = ward')\n",
    "plt.xlabel('sample index or (cluster size)')\n",
    "plt.ylabel('distance')\n",
    "dendrogram(\n",
    "    Z,\n",
    "    truncate_mode='lastp',  # show only the last p merged clusters\n",
    "    p=7,  # show only the last p merged clusters\n",
    "    leaf_rotation=90.,\n",
    "    leaf_font_size=12.,\n",
    "    show_contracted=True,  # to get a distribution impression in truncated branches\n",
    ")\n",
    "plt.show()"
   ]
  },
  {
   "cell_type": "markdown",
   "metadata": {},
   "source": [
    "---------------------------------"
   ]
  },
  {
   "cell_type": "markdown",
   "metadata": {},
   "source": [
    "- complete"
   ]
  },
  {
   "cell_type": "code",
   "execution_count": 25,
   "metadata": {
    "collapsed": true
   },
   "outputs": [],
   "source": [
    "Z = linkage(l_2, method=\"complete\")"
   ]
  },
  {
   "cell_type": "code",
   "execution_count": 26,
   "metadata": {},
   "outputs": [
    {
     "data": {
      "text/html": [
       "<div>\n",
       "<style>\n",
       "    .dataframe thead tr:only-child th {\n",
       "        text-align: right;\n",
       "    }\n",
       "\n",
       "    .dataframe thead th {\n",
       "        text-align: left;\n",
       "    }\n",
       "\n",
       "    .dataframe tbody tr th {\n",
       "        vertical-align: top;\n",
       "    }\n",
       "</style>\n",
       "<table border=\"1\" class=\"dataframe\">\n",
       "  <thead>\n",
       "    <tr style=\"text-align: right;\">\n",
       "      <th>category</th>\n",
       "      <th>1</th>\n",
       "      <th>2</th>\n",
       "      <th>3</th>\n",
       "      <th>4</th>\n",
       "      <th>5</th>\n",
       "      <th>6</th>\n",
       "      <th>8</th>\n",
       "    </tr>\n",
       "    <tr>\n",
       "      <th>labels</th>\n",
       "      <th></th>\n",
       "      <th></th>\n",
       "      <th></th>\n",
       "      <th></th>\n",
       "      <th></th>\n",
       "      <th></th>\n",
       "      <th></th>\n",
       "    </tr>\n",
       "  </thead>\n",
       "  <tbody>\n",
       "    <tr>\n",
       "      <th>1</th>\n",
       "      <td>1498</td>\n",
       "      <td>306</td>\n",
       "      <td>578</td>\n",
       "      <td>116</td>\n",
       "      <td>477</td>\n",
       "      <td>2092</td>\n",
       "      <td>844</td>\n",
       "    </tr>\n",
       "  </tbody>\n",
       "</table>\n",
       "</div>"
      ],
      "text/plain": [
       "category     1    2    3    4    5     6    8\n",
       "labels                                       \n",
       "1         1498  306  578  116  477  2092  844"
      ]
     },
     "execution_count": 26,
     "metadata": {},
     "output_type": "execute_result"
    }
   ],
   "source": [
    "k=7\n",
    "scipy_hier_labels = fcluster(Z, k, criterion='maxclust')\n",
    "page_labels = pd.DataFrame(scipy_hier_labels, columns=[\"labels\"])\n",
    "cat = pd.Series(categories)\n",
    "page_labels['category'] = cat.values\n",
    "ct = pd.crosstab(page_labels[\"labels\"], page_labels[\"category\"])\n",
    "ct"
   ]
  },
  {
   "cell_type": "markdown",
   "metadata": {},
   "source": [
    "Methods 'centroid', 'median', 'single', 'average' and 'weighted' don't result in meaningful cluster structures. "
   ]
  },
  {
   "cell_type": "code",
   "execution_count": 35,
   "metadata": {
    "collapsed": true
   },
   "outputs": [],
   "source": [
    "Z = linkage(l_2, method=\"weighted\")"
   ]
  },
  {
   "cell_type": "code",
   "execution_count": 36,
   "metadata": {},
   "outputs": [
    {
     "data": {
      "text/html": [
       "<div>\n",
       "<style>\n",
       "    .dataframe thead tr:only-child th {\n",
       "        text-align: right;\n",
       "    }\n",
       "\n",
       "    .dataframe thead th {\n",
       "        text-align: left;\n",
       "    }\n",
       "\n",
       "    .dataframe tbody tr th {\n",
       "        vertical-align: top;\n",
       "    }\n",
       "</style>\n",
       "<table border=\"1\" class=\"dataframe\">\n",
       "  <thead>\n",
       "    <tr style=\"text-align: right;\">\n",
       "      <th>category</th>\n",
       "      <th>1</th>\n",
       "      <th>2</th>\n",
       "      <th>3</th>\n",
       "      <th>4</th>\n",
       "      <th>5</th>\n",
       "      <th>6</th>\n",
       "      <th>8</th>\n",
       "    </tr>\n",
       "    <tr>\n",
       "      <th>labels</th>\n",
       "      <th></th>\n",
       "      <th></th>\n",
       "      <th></th>\n",
       "      <th></th>\n",
       "      <th></th>\n",
       "      <th></th>\n",
       "      <th></th>\n",
       "    </tr>\n",
       "  </thead>\n",
       "  <tbody>\n",
       "    <tr>\n",
       "      <th>1</th>\n",
       "      <td>1498</td>\n",
       "      <td>306</td>\n",
       "      <td>578</td>\n",
       "      <td>116</td>\n",
       "      <td>477</td>\n",
       "      <td>2092</td>\n",
       "      <td>844</td>\n",
       "    </tr>\n",
       "  </tbody>\n",
       "</table>\n",
       "</div>"
      ],
      "text/plain": [
       "category     1    2    3    4    5     6    8\n",
       "labels                                       \n",
       "1         1498  306  578  116  477  2092  844"
      ]
     },
     "execution_count": 36,
     "metadata": {},
     "output_type": "execute_result"
    }
   ],
   "source": [
    "k=7\n",
    "scipy_hier_labels = fcluster(Z, k, criterion='maxclust')\n",
    "page_labels = pd.DataFrame(scipy_hier_labels, columns=[\"labels\"])\n",
    "cat = pd.Series(categories)\n",
    "page_labels['category'] = cat.values\n",
    "ct = pd.crosstab(page_labels[\"labels\"], page_labels[\"category\"])\n",
    "ct"
   ]
  },
  {
   "cell_type": "code",
   "execution_count": null,
   "metadata": {
    "collapsed": true
   },
   "outputs": [],
   "source": []
  }
 ],
 "metadata": {
  "kernelspec": {
   "display_name": "Python 3",
   "language": "python",
   "name": "python3"
  },
  "language_info": {
   "codemirror_mode": {
    "name": "ipython",
    "version": 3
   },
   "file_extension": ".py",
   "mimetype": "text/x-python",
   "name": "python",
   "nbconvert_exporter": "python",
   "pygments_lexer": "ipython3",
   "version": "3.6.1"
  }
 },
 "nbformat": 4,
 "nbformat_minor": 2
}
