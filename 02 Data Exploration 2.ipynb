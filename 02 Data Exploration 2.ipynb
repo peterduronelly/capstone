{
 "cells": [
  {
   "cell_type": "code",
   "execution_count": 1,
   "metadata": {
    "collapsed": true
   },
   "outputs": [],
   "source": [
    "import glob\n",
    "import os, io\n",
    "import pandas as pd\n",
    "import numpy as np\n",
    "from numpy import genfromtxt\n",
    "import csv\n",
    "import pickle"
   ]
  },
  {
   "cell_type": "code",
   "execution_count": 2,
   "metadata": {
    "collapsed": true
   },
   "outputs": [],
   "source": [
    "directory = \"C://FOLDERS//CEU//Capstone Project//Data//nagykategek\""
   ]
  },
  {
   "cell_type": "code",
   "execution_count": 3,
   "metadata": {
    "collapsed": true
   },
   "outputs": [],
   "source": [
    "folders = os.listdir(directory)"
   ]
  },
  {
   "cell_type": "code",
   "execution_count": 4,
   "metadata": {},
   "outputs": [
    {
     "data": {
      "text/plain": [
       "11879"
      ]
     },
     "execution_count": 4,
     "metadata": {},
     "output_type": "execute_result"
    }
   ],
   "source": [
    "len(folders)"
   ]
  },
  {
   "cell_type": "markdown",
   "metadata": {},
   "source": [
    "<br>Filtering out empty folders"
   ]
  },
  {
   "cell_type": "code",
   "execution_count": 5,
   "metadata": {},
   "outputs": [
    {
     "name": "stdout",
     "output_type": "stream",
     "text": [
      "Empty folders:  3136 .\n",
      "Not empty folders:  8743 .\n"
     ]
    }
   ],
   "source": [
    "empty = 0\n",
    "not_empty = 0\n",
    "empty_folders = []\n",
    "not_empty_folders = []\n",
    "\n",
    "for i in range(0,len(folders)):\n",
    "    path = directory + \"//\" + folders[i] + \"//*.csv\"\n",
    "    files = glob.glob(path)\n",
    "    if len(files) == 0:\n",
    "        empty = empty +1\n",
    "        empty_folders.append(folders[i])\n",
    "    else:\n",
    "        not_empty = not_empty + 1\n",
    "        not_empty_folders.append(folders[i])\n",
    "\n",
    "print(\"Empty folders: \", empty, \".\")\n",
    "print(\"Not empty folders: \", not_empty, \".\")"
   ]
  },
  {
   "cell_type": "code",
   "execution_count": 6,
   "metadata": {},
   "outputs": [
    {
     "data": {
      "text/plain": [
       "8743"
      ]
     },
     "execution_count": 6,
     "metadata": {},
     "output_type": "execute_result"
    }
   ],
   "source": [
    "len(not_empty_folders)"
   ]
  },
  {
   "cell_type": "markdown",
   "metadata": {},
   "source": [
    "<br>Extracting likes"
   ]
  },
  {
   "cell_type": "code",
   "execution_count": 7,
   "metadata": {
    "collapsed": true
   },
   "outputs": [],
   "source": [
    "page_likes = {}"
   ]
  },
  {
   "cell_type": "code",
   "execution_count": 12,
   "metadata": {
    "collapsed": true
   },
   "outputs": [],
   "source": [
    "for i in range(0, len(not_empty_folders)):\n",
    "    users = []\n",
    "    likes = glob.glob(directory + \"//\" + not_empty_folders[i] + \"//*.csv\")\n",
    "    for j in range(0, len(likes)):\n",
    "        df = pd.read_csv(likes[j], delimiter= \";\", names = [\"page_id\", \"post_id\", \"date_stamp\", \"user_id\", \"like\"])\n",
    "        l = df[\"user_id\"].tolist()\n",
    "        users.extend(l)\n",
    "    users = list(set(users))\n",
    "    key = not_empty_folders[i]\n",
    "    page_likes[key] = users"
   ]
  },
  {
   "cell_type": "code",
   "execution_count": 9,
   "metadata": {
    "collapsed": true
   },
   "outputs": [],
   "source": [
    "csvfiles = 0\n",
    "for i in range(0, len(not_empty_folders)):\n",
    "    likes = glob.glob(directory + \"//\" + not_empty_folders[i] + \"//*.csv\")\n",
    "    csvfiles = csvfiles + len(likes)"
   ]
  },
  {
   "cell_type": "code",
   "execution_count": 13,
   "metadata": {
    "collapsed": true
   },
   "outputs": [],
   "source": [
    "f = open(\"page_likes.pkl\",\"wb\")\n",
    "pickle.dump(page_likes,f)\n",
    "f.close()"
   ]
  },
  {
   "cell_type": "code",
   "execution_count": 17,
   "metadata": {
    "collapsed": true
   },
   "outputs": [],
   "source": [
    "np.savetxt(\"page_ids.csv\", not_empty_folders, delimiter=\",\", fmt='%s')"
   ]
  },
  {
   "cell_type": "code",
   "execution_count": 10,
   "metadata": {},
   "outputs": [
    {
     "data": {
      "text/plain": [
       "83727"
      ]
     },
     "execution_count": 10,
     "metadata": {},
     "output_type": "execute_result"
    }
   ],
   "source": [
    "csvfiles"
   ]
  },
  {
   "cell_type": "code",
   "execution_count": 8,
   "metadata": {},
   "outputs": [
    {
     "data": {
      "text/plain": [
       "['C://FOLDERS//CEU//Capstone Project//Data//nagykategek//999265453469440\\\\reactions_2017_03.csv',\n",
       " 'C://FOLDERS//CEU//Capstone Project//Data//nagykategek//999265453469440\\\\reactions_2017_06.csv',\n",
       " 'C://FOLDERS//CEU//Capstone Project//Data//nagykategek//999265453469440\\\\reactions_2017_10.csv']"
      ]
     },
     "execution_count": 8,
     "metadata": {},
     "output_type": "execute_result"
    }
   ],
   "source": [
    "likes"
   ]
  },
  {
   "cell_type": "code",
   "execution_count": null,
   "metadata": {
    "collapsed": true
   },
   "outputs": [],
   "source": []
  }
 ],
 "metadata": {
  "kernelspec": {
   "display_name": "Python 3",
   "language": "python",
   "name": "python3"
  },
  "language_info": {
   "codemirror_mode": {
    "name": "ipython",
    "version": 3
   },
   "file_extension": ".py",
   "mimetype": "text/x-python",
   "name": "python",
   "nbconvert_exporter": "python",
   "pygments_lexer": "ipython3",
   "version": "3.6.1"
  }
 },
 "nbformat": 4,
 "nbformat_minor": 2
}
