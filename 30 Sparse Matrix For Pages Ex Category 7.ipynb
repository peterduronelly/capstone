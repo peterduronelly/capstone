{
 "cells": [
  {
   "cell_type": "code",
   "execution_count": 8,
   "metadata": {
    "collapsed": true
   },
   "outputs": [],
   "source": [
    "import numpy as np\n",
    "import pandas as pd\n",
    "import pickle\n",
    "import time\n",
    "from numpy import genfromtxt\n",
    "from scipy.sparse import coo_matrix\n",
    "from scipy.sparse import save_npz"
   ]
  },
  {
   "cell_type": "markdown",
   "metadata": {},
   "source": [
    "<br> \n",
    "1. Load dictionary of active pages\n",
    "2. Load page categories and keep only those for the pages with the active users."
   ]
  },
  {
   "cell_type": "code",
   "execution_count": 2,
   "metadata": {
    "collapsed": true
   },
   "outputs": [],
   "source": [
    "g = open(\"page_categories.pkl\", \"rb\")\n",
    "page_categories = pickle.load(g)\n",
    "g.close()\n",
    "\n",
    "f = open(\"C:\\\\FOLDERS\\\\CEU\\\\Capstone Project\\\\Data\\\\active_users_page_likes.pkl\", \"rb\")\n",
    "temp = pickle.load(f)\n",
    "f.close()\n",
    "\n",
    "active_page_ids = []\n",
    "\n",
    "for key in temp.keys():\n",
    "    active_page_ids.append(key)\n",
    "\n",
    "active_page_ids = sorted(active_page_ids)\n",
    "\n",
    "active_page_categories = {}\n",
    "\n",
    "for key in page_categories.keys():\n",
    "    if key in active_page_ids:\n",
    "        active_page_categories[key] = page_categories[key]"
   ]
  },
  {
   "cell_type": "markdown",
   "metadata": {
    "collapsed": true
   },
   "source": [
    "<br>\n",
    "<span>3.</span> Make a dictionary of page categories leaving Category 7 out. "
   ]
  },
  {
   "cell_type": "code",
   "execution_count": 6,
   "metadata": {
    "collapsed": true
   },
   "outputs": [],
   "source": [
    "active_page_categories_ex_7 = {}\n",
    "\n",
    "for key in active_page_categories.keys():\n",
    "    if active_page_categories[key] != 7:\n",
    "        active_page_categories_ex_7[key] = active_page_categories[key]"
   ]
  },
  {
   "cell_type": "code",
   "execution_count": 10,
   "metadata": {},
   "outputs": [
    {
     "name": "stdout",
     "output_type": "stream",
     "text": [
      "There are 5911 pages left without category 7. \n"
     ]
    }
   ],
   "source": [
    "print(\"There are\", len(active_page_categories_ex_7), \"pages left without category 7. \")"
   ]
  },
  {
   "cell_type": "code",
   "execution_count": 16,
   "metadata": {
    "collapsed": true
   },
   "outputs": [],
   "source": [
    "f = open(\"C:\\\\FOLDERS\\\\CEU\\\\Capstone Project\\\\Data\\\\active_users_page_likes.pkl\", \"rb\")\n",
    "temp = pickle.load(f)\n",
    "f.close()"
   ]
  },
  {
   "cell_type": "code",
   "execution_count": 17,
   "metadata": {
    "collapsed": true
   },
   "outputs": [],
   "source": [
    "active_users_page_likes_ex_7 = {}\n",
    "\n",
    "for key in temp.keys():\n",
    "    if str(key) in active_page_categories_ex_7.keys():\n",
    "        active_users_page_likes_ex_7[key] = temp[key]"
   ]
  },
  {
   "cell_type": "code",
   "execution_count": 21,
   "metadata": {},
   "outputs": [
    {
     "data": {
      "text/plain": [
       "5911"
      ]
     },
     "execution_count": 21,
     "metadata": {},
     "output_type": "execute_result"
    }
   ],
   "source": [
    "len(active_users_page_likes_ex_7)"
   ]
  },
  {
   "cell_type": "code",
   "execution_count": 22,
   "metadata": {
    "collapsed": true
   },
   "outputs": [],
   "source": [
    "f = open(\"C:\\\\FOLDERS\\\\CEU\\\\Capstone Project\\\\Data\\\\active_users_page_likes_ex_7.pkl\",\"wb\") # dict{page: users with at least 2 click}\n",
    "pickle.dump(active_users_page_likes_ex_7,f)\n",
    "f.close()"
   ]
  },
  {
   "cell_type": "markdown",
   "metadata": {},
   "source": [
    "<br>\n",
    "<span>4.</span> Build the new sparse matrix. "
   ]
  },
  {
   "cell_type": "code",
   "execution_count": 3,
   "metadata": {
    "collapsed": true
   },
   "outputs": [],
   "source": [
    "f = open(\"C:\\\\FOLDERS\\\\CEU\\\\Capstone Project\\\\Data\\\\active_users_page_likes_ex_7.pkl\", \"rb\")\n",
    "temp = pickle.load(f)\n",
    "f.close()\n",
    "\n",
    "\n",
    "d = sorted(temp.keys())\n",
    "\n",
    "active_users_page_likes_ex_7 = {}\n",
    "\n",
    "for i in range(0, len(d)):\n",
    "    key = d[i]\n",
    "    active_users_page_likes_ex_7[key] = temp[key]"
   ]
  },
  {
   "cell_type": "code",
   "execution_count": 4,
   "metadata": {},
   "outputs": [
    {
     "name": "stdout",
     "output_type": "stream",
     "text": [
      "3.17 hours\n"
     ]
    }
   ],
   "source": [
    "# Build the sparse matrix with the number of common likers. Users should have liked both pages at least twice. \n",
    "\n",
    "r = 0 # the index of the row of the matrix\n",
    "c = 0 # the index of the columns of the matrix\n",
    "row_indices = []\n",
    "column_indices = []\n",
    "matrix_elements = []\n",
    "\n",
    "t1 = time.time()\n",
    "\n",
    "for key_r in active_users_page_likes_ex_7.keys(): # key_r is the key for the rows\n",
    "    x = active_users_page_likes_ex_7[key_r]\n",
    "    for key_c in active_users_page_likes_ex_7.keys(): # key_c is the key for the columns\n",
    "        if c >= r:\n",
    "            y = active_users_page_likes_ex_7[key_c]\n",
    "            common_set = set(x)&set(y)\n",
    "            common_set_size = len(common_set)\n",
    "            if common_set_size > 0:\n",
    "                row_indices.append(r)\n",
    "                column_indices.append(c)\n",
    "                matrix_elements.append(common_set_size)\n",
    "        c = c + 1\n",
    "    r = r + 1\n",
    "    c = 0\n",
    "\n",
    "print(round((time.time() - t1) / 3600,2), \"hours\")\n",
    "\n",
    "np.savetxt('C:\\\\FOLDERS\\\\CEU\\\\Capstone Project\\\\Data\\\\active_users_ex_7_mx_row_indices.csv', row_indices, delimiter=',')\n",
    "np.savetxt('C:\\\\FOLDERS\\\\CEU\\\\Capstone Project\\\\Data\\\\active_users_ex_7_mx_column_indices.csv', column_indices, delimiter=',')\n",
    "np.savetxt('C:\\\\FOLDERS\\\\CEU\\\\Capstone Project\\\\Data\\\\active_users_ex_7_mx_elements.csv', matrix_elements, delimiter=',')"
   ]
  },
  {
   "cell_type": "code",
   "execution_count": 2,
   "metadata": {},
   "outputs": [],
   "source": [
    "row_indices = np.loadtxt('C:\\\\FOLDERS\\\\CEU\\\\Capstone Project\\\\Data\\\\active_users_ex_7_mx_row_indices.csv', delimiter=',')\n",
    "column_indices = np.loadtxt('C:\\\\FOLDERS\\\\CEU\\\\Capstone Project\\\\Data\\\\active_users_ex_7_mx_column_indices.csv', delimiter=',')\n",
    "matrix_elements = np.loadtxt('C:\\\\FOLDERS\\\\CEU\\\\Capstone Project\\\\Data\\\\active_users_ex_7_mx_elements.csv', delimiter=',')"
   ]
  },
  {
   "cell_type": "code",
   "execution_count": 3,
   "metadata": {
    "collapsed": true
   },
   "outputs": [],
   "source": [
    "row_indices = row_indices.tolist()\n",
    "column_indices = column_indices.tolist()\n",
    "matrix_elements = matrix_elements.tolist()\n",
    "\n",
    "row_indices_2 = row_indices\n",
    "column_indices_2 = column_indices\n",
    "matrix_elements_2 = matrix_elements\n",
    "\n",
    "for i in range(0, len(row_indices)):\n",
    "    if row_indices[i] != column_indices[i]:\n",
    "        column_indices_2.append(row_indices[i])\n",
    "        row_indices_2.append(column_indices[i])\n",
    "        matrix_elements_2.append(matrix_elements[i])"
   ]
  },
  {
   "cell_type": "code",
   "execution_count": 4,
   "metadata": {
    "collapsed": true
   },
   "outputs": [],
   "source": [
    "size = 5911\n",
    "\n",
    "row2  = np.array(row_indices_2)\n",
    "col2  = np.array(column_indices_2)\n",
    "val2 = np.array(matrix_elements_2)\n",
    "mx = coo_matrix((val2, (row2, col2)), shape=(size, size))"
   ]
  },
  {
   "cell_type": "code",
   "execution_count": 6,
   "metadata": {},
   "outputs": [
    {
     "name": "stdout",
     "output_type": "stream",
     "text": [
      "Matrix fill-up = 0.349 .\n"
     ]
    }
   ],
   "source": [
    "print(\"Matrix fill-up =\", round(len(val2) / 5911**2, 3), \".\")"
   ]
  },
  {
   "cell_type": "code",
   "execution_count": 9,
   "metadata": {},
   "outputs": [],
   "source": [
    "save_npz('C:\\\\FOLDERS\\\\CEU\\\\Capstone Project\\\\Data\\\\active_users_sparse_matrix_ex_7.npz', mx)"
   ]
  },
  {
   "cell_type": "code",
   "execution_count": null,
   "metadata": {
    "collapsed": true
   },
   "outputs": [],
   "source": []
  }
 ],
 "metadata": {
  "kernelspec": {
   "display_name": "Python 3",
   "language": "python",
   "name": "python3"
  },
  "language_info": {
   "codemirror_mode": {
    "name": "ipython",
    "version": 3
   },
   "file_extension": ".py",
   "mimetype": "text/x-python",
   "name": "python",
   "nbconvert_exporter": "python",
   "pygments_lexer": "ipython3",
   "version": "3.6.1"
  }
 },
 "nbformat": 4,
 "nbformat_minor": 2
}
