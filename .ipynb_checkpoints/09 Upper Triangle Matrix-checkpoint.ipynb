{
 "cells": [
  {
   "cell_type": "code",
   "execution_count": 2,
   "metadata": {
    "collapsed": true
   },
   "outputs": [],
   "source": [
    "import numpy as np\n",
    "from scipy.sparse import coo_matrix\n",
    "%matplotlib inline\n",
    "import matplotlib.pyplot as plt\n",
    "import random"
   ]
  },
  {
   "cell_type": "code",
   "execution_count": 3,
   "metadata": {
    "collapsed": true
   },
   "outputs": [],
   "source": [
    "kijz = list(range(0,15))"
   ]
  },
  {
   "cell_type": "code",
   "execution_count": 12,
   "metadata": {
    "collapsed": true
   },
   "outputs": [],
   "source": [
    "dic = {}\n",
    "for i in range(0,15):\n",
    "    key = kijz[i]\n",
    "    l = random.sample(range(0,30), 4)\n",
    "    dic[key] = l"
   ]
  },
  {
   "cell_type": "code",
   "execution_count": 13,
   "metadata": {},
   "outputs": [
    {
     "name": "stdout",
     "output_type": "stream",
     "text": [
      "[8, 12, 5, 13]\n",
      "[0, 16, 2, 10]\n",
      "[5, 25, 1, 26]\n",
      "[10, 20, 13, 3]\n",
      "[2, 29, 26, 25]\n",
      "[19, 1, 14, 5]\n",
      "[9, 11, 27, 16]\n",
      "[23, 1, 16, 21]\n",
      "[8, 2, 5, 23]\n",
      "[13, 16, 4, 15]\n",
      "[7, 27, 6, 18]\n",
      "[0, 1, 19, 26]\n",
      "[18, 14, 24, 5]\n",
      "[22, 17, 20, 21]\n",
      "[28, 22, 27, 13]\n"
     ]
    }
   ],
   "source": [
    "for key in dic.keys():\n",
    "    print(dic[key])"
   ]
  },
  {
   "cell_type": "code",
   "execution_count": 14,
   "metadata": {
    "collapsed": true
   },
   "outputs": [],
   "source": [
    "r = 0 # the index of the row of the matrix\n",
    "c = 0 # the index of the columns of the matrix\n",
    "counter = 0\n",
    "row_indices = []\n",
    "column_indices = []\n",
    "matrix_elements = []\n",
    "\n",
    "for key_r in dic.keys(): # key_r is the key for the rows\n",
    "    x = dic[key_r]\n",
    "    for key_c in dic.keys(): # key_c is the key for the columns\n",
    "        if c >= r:\n",
    "            y = dic[key_c]\n",
    "            common_set = list(set(x) & set(y))\n",
    "            common_set_size = len(common_set)\n",
    "            if common_set_size > 0:\n",
    "                row_indices.append(r)\n",
    "                column_indices.append(c)\n",
    "                matrix_elements.append(common_set_size)\n",
    "        c = c + 1\n",
    "    r = r + 1\n",
    "    c = 0"
   ]
  },
  {
   "cell_type": "code",
   "execution_count": 15,
   "metadata": {},
   "outputs": [
    {
     "data": {
      "text/plain": [
       "array([[4, 0, 1, 1, 0, 1, 0, 0, 2, 1, 0, 0, 1, 0, 1],\n",
       "       [0, 4, 0, 1, 1, 0, 1, 1, 1, 1, 0, 1, 0, 0, 0],\n",
       "       [0, 0, 4, 0, 2, 2, 0, 1, 1, 0, 0, 2, 1, 0, 0],\n",
       "       [0, 0, 0, 4, 0, 0, 0, 0, 0, 1, 0, 0, 0, 1, 1],\n",
       "       [0, 0, 0, 0, 4, 0, 0, 0, 1, 0, 0, 1, 0, 0, 0],\n",
       "       [0, 0, 0, 0, 0, 4, 0, 1, 1, 0, 0, 2, 2, 0, 0],\n",
       "       [0, 0, 0, 0, 0, 0, 4, 1, 0, 1, 1, 0, 0, 0, 1],\n",
       "       [0, 0, 0, 0, 0, 0, 0, 4, 1, 1, 0, 1, 0, 1, 0],\n",
       "       [0, 0, 0, 0, 0, 0, 0, 0, 4, 0, 0, 0, 1, 0, 0],\n",
       "       [0, 0, 0, 0, 0, 0, 0, 0, 0, 4, 0, 0, 0, 0, 1],\n",
       "       [0, 0, 0, 0, 0, 0, 0, 0, 0, 0, 4, 0, 1, 0, 1],\n",
       "       [0, 0, 0, 0, 0, 0, 0, 0, 0, 0, 0, 4, 0, 0, 0],\n",
       "       [0, 0, 0, 0, 0, 0, 0, 0, 0, 0, 0, 0, 4, 0, 0],\n",
       "       [0, 0, 0, 0, 0, 0, 0, 0, 0, 0, 0, 0, 0, 4, 1],\n",
       "       [0, 0, 0, 0, 0, 0, 0, 0, 0, 0, 0, 0, 0, 0, 4]])"
      ]
     },
     "execution_count": 15,
     "metadata": {},
     "output_type": "execute_result"
    }
   ],
   "source": [
    "row  = np.array(row_indices)\n",
    "col  = np.array(column_indices)\n",
    "val = np.array(matrix_elements)\n",
    "mx = coo_matrix((val, (row, col)), shape=(15, 15)).toarray()\n",
    "mx"
   ]
  },
  {
   "cell_type": "code",
   "execution_count": 16,
   "metadata": {},
   "outputs": [
    {
     "data": {
      "image/png": "[encoded data removed]",
      "text/plain": [
       "<matplotlib.figure.Figure at 0x1d02192a5c0>"
      ]
     },
     "metadata": {},
     "output_type": "display_data"
    }
   ],
   "source": [
    "plt.spy(mx)\n",
    "plt.show()"
   ]
  },
  {
   "cell_type": "code",
   "execution_count": 17,
   "metadata": {
    "collapsed": true
   },
   "outputs": [],
   "source": [
    "row_indices_2 = row_indices\n",
    "column_indices_2 = column_indices\n",
    "matrix_elements_2 = matrix_elements\n",
    "\n",
    "for i in range(0, len(row_indices)):\n",
    "    if row_indices[i] != column_indices[i]:\n",
    "        column_indices_2.append(row_indices[i])\n",
    "        row_indices_2.append(column_indices[i])\n",
    "        matrix_elements_2.append(matrix_elements[i])"
   ]
  },
  {
   "cell_type": "code",
   "execution_count": 18,
   "metadata": {},
   "outputs": [
    {
     "data": {
      "text/plain": [
       "<15x15 sparse matrix of type '<class 'numpy.int32'>'\n",
       "\twith 99 stored elements in COOrdinate format>"
      ]
     },
     "execution_count": 18,
     "metadata": {},
     "output_type": "execute_result"
    }
   ],
   "source": [
    "row2  = np.array(row_indices_2)\n",
    "col2  = np.array(column_indices_2)\n",
    "val2 = np.array(matrix_elements_2)\n",
    "mx2 = coo_matrix((val2, (row2, col2)), shape=(15, 15))\n",
    "mx2"
   ]
  },
  {
   "cell_type": "code",
   "execution_count": 19,
   "metadata": {},
   "outputs": [
    {
     "data": {
      "image/png": "[encoded data removed]",
      "text/plain": [
       "<matplotlib.figure.Figure at 0x1d0219dc160>"
      ]
     },
     "metadata": {},
     "output_type": "display_data"
    }
   ],
   "source": [
    "plt.spy(mx2)\n",
    "plt.show()"
   ]
  },
  {
   "cell_type": "code",
   "execution_count": null,
   "metadata": {
    "collapsed": true
   },
   "outputs": [],
   "source": []
  }
 ],
 "metadata": {
  "kernelspec": {
   "display_name": "Python 3",
   "language": "python",
   "name": "python3"
  },
  "language_info": {
   "codemirror_mode": {
    "name": "ipython",
    "version": 3
   },
   "file_extension": ".py",
   "mimetype": "text/x-python",
   "name": "python",
   "nbconvert_exporter": "python",
   "pygments_lexer": "ipython3",
   "version": "3.6.1"
  }
 },
 "nbformat": 4,
 "nbformat_minor": 2
}
