{
 "cells": [
  {
   "cell_type": "markdown",
   "metadata": {},
   "source": [
    "### This file:\n",
    "<br>\n",
    "- Opens text files containing page ids and categories\n",
    "- Creates dictionary \"d\" where keys are page ids, values are major categories (\"nagykategoriak\")\n",
    "- Opens list of pages with likes (the 'not_empty_folders')\n",
    "- Creates the dictionary \"page_categories\" where these not empty folders are paired with thier respectivy categories\n",
    "- Saves the dict into \"page_categories.pkl\""
   ]
  },
  {
   "cell_type": "code",
   "execution_count": 1,
   "metadata": {
    "collapsed": true
   },
   "outputs": [],
   "source": [
    "import csv\n",
    "import pickle"
   ]
  },
  {
   "cell_type": "code",
   "execution_count": 2,
   "metadata": {
    "collapsed": true
   },
   "outputs": [],
   "source": [
    "kat_files = [\"1csaladotthon.txt\", \"2egeszsegsport.txt\", \"3elmenyszorakozas.txt\", \"4kommersz.txt\",\n",
    "            \"5kozelet.txt\", \"6technika.txt\", \"7tudatossag.txt\", \"8uzletielet.txt\"]\n",
    "kategoriak = [1, 2, 3, 4, 5, 6, 7, 8]"
   ]
  },
  {
   "cell_type": "code",
   "execution_count": 3,
   "metadata": {
    "collapsed": true
   },
   "outputs": [],
   "source": [
    "d = {}\n",
    "for i in range(0,8):\n",
    "    f = open(kat_files[i], 'r')\n",
    "    l = f.readlines()\n",
    "    f.close()\n",
    "    for j in range(0, len(l)):\n",
    "        h = len(l[j])\n",
    "        page = int(l[j][2:h-1])\n",
    "        d[page] = kategoriak[i]\n"
   ]
  },
  {
   "cell_type": "code",
   "execution_count": 4,
   "metadata": {},
   "outputs": [
    {
     "data": {
      "text/plain": [
       "11879"
      ]
     },
     "execution_count": 4,
     "metadata": {},
     "output_type": "execute_result"
    }
   ],
   "source": [
    "len(d)"
   ]
  },
  {
   "cell_type": "code",
   "execution_count": 5,
   "metadata": {
    "collapsed": true
   },
   "outputs": [],
   "source": [
    "page_ids = []\n",
    "with open(\"page_ids.csv\", 'r') as csvfile:\n",
    "    input = csv.reader(csvfile, delimiter = \",\")\n",
    "    for row in input:\n",
    "        page_ids.append(row)\n",
    "csvfile.close()\n",
    "    "
   ]
  },
  {
   "cell_type": "code",
   "execution_count": 6,
   "metadata": {
    "collapsed": true
   },
   "outputs": [],
   "source": [
    "page_categories = {} # a dict for pages with likes where keys are page_ids and values are categories (nagykategoriak)\n",
    "for i in range(0, len(page_ids)):\n",
    "    key = page_ids[i][0]\n",
    "    page_categories[key] = d[int(key)]"
   ]
  },
  {
   "cell_type": "code",
   "execution_count": 7,
   "metadata": {},
   "outputs": [
    {
     "data": {
      "text/plain": [
       "8743"
      ]
     },
     "execution_count": 7,
     "metadata": {},
     "output_type": "execute_result"
    }
   ],
   "source": [
    "len(page_categories)"
   ]
  },
  {
   "cell_type": "code",
   "execution_count": 8,
   "metadata": {
    "collapsed": true
   },
   "outputs": [],
   "source": [
    "f = open(\"page_categories.pkl\",\"wb\")\n",
    "pickle.dump(page_categories,f)\n",
    "f.close()"
   ]
  },
  {
   "cell_type": "code",
   "execution_count": null,
   "metadata": {
    "collapsed": true
   },
   "outputs": [],
   "source": []
  }
 ],
 "metadata": {
  "kernelspec": {
   "display_name": "Python 3",
   "language": "python",
   "name": "python3"
  },
  "language_info": {
   "codemirror_mode": {
    "name": "ipython",
    "version": 3
   },
   "file_extension": ".py",
   "mimetype": "text/x-python",
   "name": "python",
   "nbconvert_exporter": "python",
   "pygments_lexer": "ipython3",
   "version": "3.6.1"
  }
 },
 "nbformat": 4,
 "nbformat_minor": 2
}
