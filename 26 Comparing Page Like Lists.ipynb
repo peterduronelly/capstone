{
 "cells": [
  {
   "cell_type": "code",
   "execution_count": 15,
   "metadata": {
    "collapsed": true
   },
   "outputs": [],
   "source": [
    "import pandas as pd\n",
    "import numpy as np\n",
    "import pickle\n",
    "%matplotlib inline\n",
    "import matplotlib\n",
    "import matplotlib.pyplot as plt"
   ]
  },
  {
   "cell_type": "code",
   "execution_count": 2,
   "metadata": {
    "collapsed": true
   },
   "outputs": [],
   "source": [
    "f = open(\"C:\\\\FOLDERS\\\\CEU\\\\Capstone Project\\\\Data\\\\active_page_likes.pkl\", \"rb\")\n",
    "active_page_likes = pickle.load(f)\n",
    "f.close()"
   ]
  },
  {
   "cell_type": "code",
   "execution_count": 3,
   "metadata": {
    "collapsed": true
   },
   "outputs": [],
   "source": [
    "f = open(\"C:\\\\FOLDERS\\\\CEU\\\\Capstone Project\\\\Data\\\\page_likes.pkl\", \"rb\")\n",
    "page_likes = pickle.load(f)\n",
    "f.close()"
   ]
  },
  {
   "cell_type": "code",
   "execution_count": 11,
   "metadata": {},
   "outputs": [],
   "source": [
    "likes = [] # a list for the number of likers per page\n",
    "active_likes = [] # a list for the number of likers who have clicked/liked at least twice per page\n",
    "\n",
    "for key in page_likes.keys():\n",
    "    likes.append(len(page_likes[key]))\n",
    "    \n",
    "for kej in active_page_likes.keys():\n",
    "    active_likes.append(len(active_page_likes[kej]))"
   ]
  },
  {
   "cell_type": "code",
   "execution_count": 27,
   "metadata": {},
   "outputs": [],
   "source": [
    "data = pd.DataFrame(list(zip(likes, active_likes)), columns=[\"all users\", \"active users\"])"
   ]
  },
  {
   "cell_type": "code",
   "execution_count": 29,
   "metadata": {},
   "outputs": [
    {
     "data": {
      "text/html": [
       "<div>\n",
       "<style>\n",
       "    .dataframe thead tr:only-child th {\n",
       "        text-align: right;\n",
       "    }\n",
       "\n",
       "    .dataframe thead th {\n",
       "        text-align: left;\n",
       "    }\n",
       "\n",
       "    .dataframe tbody tr th {\n",
       "        vertical-align: top;\n",
       "    }\n",
       "</style>\n",
       "<table border=\"1\" class=\"dataframe\">\n",
       "  <thead>\n",
       "    <tr style=\"text-align: right;\">\n",
       "      <th></th>\n",
       "      <th>all users</th>\n",
       "      <th>active users</th>\n",
       "    </tr>\n",
       "  </thead>\n",
       "  <tbody>\n",
       "    <tr>\n",
       "      <th>count</th>\n",
       "      <td>8.743000e+03</td>\n",
       "      <td>8.743000e+03</td>\n",
       "    </tr>\n",
       "    <tr>\n",
       "      <th>mean</th>\n",
       "      <td>1.121929e+04</td>\n",
       "      <td>5.371889e+03</td>\n",
       "    </tr>\n",
       "    <tr>\n",
       "      <th>std</th>\n",
       "      <td>9.904359e+04</td>\n",
       "      <td>3.903660e+04</td>\n",
       "    </tr>\n",
       "    <tr>\n",
       "      <th>min</th>\n",
       "      <td>1.000000e+00</td>\n",
       "      <td>0.000000e+00</td>\n",
       "    </tr>\n",
       "    <tr>\n",
       "      <th>25%</th>\n",
       "      <td>1.565000e+02</td>\n",
       "      <td>5.300000e+01</td>\n",
       "    </tr>\n",
       "    <tr>\n",
       "      <th>50%</th>\n",
       "      <td>1.044000e+03</td>\n",
       "      <td>4.350000e+02</td>\n",
       "    </tr>\n",
       "    <tr>\n",
       "      <th>75%</th>\n",
       "      <td>5.402500e+03</td>\n",
       "      <td>2.546500e+03</td>\n",
       "    </tr>\n",
       "    <tr>\n",
       "      <th>max</th>\n",
       "      <td>7.177772e+06</td>\n",
       "      <td>2.862394e+06</td>\n",
       "    </tr>\n",
       "  </tbody>\n",
       "</table>\n",
       "</div>"
      ],
      "text/plain": [
       "          all users  active users\n",
       "count  8.743000e+03  8.743000e+03\n",
       "mean   1.121929e+04  5.371889e+03\n",
       "std    9.904359e+04  3.903660e+04\n",
       "min    1.000000e+00  0.000000e+00\n",
       "25%    1.565000e+02  5.300000e+01\n",
       "50%    1.044000e+03  4.350000e+02\n",
       "75%    5.402500e+03  2.546500e+03\n",
       "max    7.177772e+06  2.862394e+06"
      ]
     },
     "execution_count": 29,
     "metadata": {},
     "output_type": "execute_result"
    }
   ],
   "source": [
    "data.describe()"
   ]
  },
  {
   "cell_type": "code",
   "execution_count": 30,
   "metadata": {
    "collapsed": true
   },
   "outputs": [],
   "source": [
    "likes = sorted(likes)\n",
    "active_likes = sorted(active_likes)"
   ]
  },
  {
   "cell_type": "code",
   "execution_count": 35,
   "metadata": {},
   "outputs": [],
   "source": [
    "likes_top_1 = likes[-87:]\n",
    "active_likes_top_1 = active_likes[-87:]"
   ]
  },
  {
   "cell_type": "code",
   "execution_count": 48,
   "metadata": {
    "collapsed": true
   },
   "outputs": [],
   "source": [
    "likes_90 = likes[:len(likes)-874]\n",
    "active_likes_90 = active_likes[:len(active_likes)-874]"
   ]
  },
  {
   "cell_type": "code",
   "execution_count": 51,
   "metadata": {},
   "outputs": [
    {
     "name": "stdout",
     "output_type": "stream",
     "text": [
      "Likes 90th percentile =  19072 .\n",
      "Active users likes 90th percentile =  9431 .\n"
     ]
    }
   ],
   "source": [
    "print(\"Likes 90th percentile = \", likes_90[-1], \".\")\n",
    "print(\"Active users likes 90th percentile = \", active_likes_90[-1], \".\")"
   ]
  },
  {
   "cell_type": "code",
   "execution_count": 50,
   "metadata": {},
   "outputs": [
    {
     "data": {
      "image/png": "[encoded data removed]",
      "text/plain": [
       "<matplotlib.figure.Figure at 0x1d8700ebf60>"
      ]
     },
     "metadata": {},
     "output_type": "display_data"
    }
   ],
   "source": [
    "bins = np.linspace(0, 20000, 100)\n",
    "plt.hist(likes_90, bins, alpha=0.5, label='all')\n",
    "plt.hist(active_likes_90, bins, alpha=0.5, label='active')\n",
    "plt.legend(loc='upper right')\n",
    "plt.title(\"First 90 percentile\")\n",
    "plt.show()"
   ]
  },
  {
   "cell_type": "code",
   "execution_count": 55,
   "metadata": {},
   "outputs": [
    {
     "name": "stdout",
     "output_type": "stream",
     "text": [
      "Likes 10th percentile = 25 , 90th percentile = 19072 .\n",
      "Active users 10th percentile = 5 , 90th percentile = 9431 .\n"
     ]
    }
   ],
   "source": [
    "likes_mid_80 = likes[874: len(likes) - 874]\n",
    "active_likes_mid_80 = active_likes[874: len(likes) - 874]\n",
    "\n",
    "print(\"Likes 10th percentile =\", likes_mid_80[0],\", 90th percentile =\", likes_90[-1], \".\")\n",
    "print(\"Active users 10th percentile =\", active_likes_mid_80[0],\", 90th percentile =\", active_likes_mid_80[-1], \".\")"
   ]
  },
  {
   "cell_type": "code",
   "execution_count": 56,
   "metadata": {},
   "outputs": [
    {
     "data": {
      "image/png": "[encoded data removed]",
      "text/plain": [
       "<matplotlib.figure.Figure at 0x1d8700996a0>"
      ]
     },
     "metadata": {},
     "output_type": "display_data"
    }
   ],
   "source": [
    "bins = np.linspace(0, 20000, 100)\n",
    "plt.hist(likes_mid_80, bins, alpha=0.5, label='all')\n",
    "plt.hist(active_likes_mid_80, bins, alpha=0.5, label='active')\n",
    "plt.legend(loc='upper right')\n",
    "plt.title(\"Mid 80 percentile\")\n",
    "plt.show()"
   ]
  },
  {
   "cell_type": "code",
   "execution_count": 58,
   "metadata": {},
   "outputs": [
    {
     "data": {
      "image/png": "[encoded data removed]",
      "text/plain": [
       "<matplotlib.figure.Figure at 0x1d8700744e0>"
      ]
     },
     "metadata": {},
     "output_type": "display_data"
    }
   ],
   "source": [
    "plt.hist([likes_mid_80, active_likes_mid_80], bins, label=['all', 'active'])\n",
    "plt.legend(loc='upper right')\n",
    "plt.title(\"Mid 80 percentile\")\n",
    "plt.show()"
   ]
  },
  {
   "cell_type": "code",
   "execution_count": 62,
   "metadata": {},
   "outputs": [
    {
     "name": "stdout",
     "output_type": "stream",
     "text": [
      "Likes 1st quartile = 156 , 3rd quartile = 5403 .\n",
      "Active users 1st quartile = 53 , 3rd quartile = 2547 .\n"
     ]
    }
   ],
   "source": [
    "likes_mid_50 = likes[2185:len(likes) - 2185]\n",
    "active_likes_mid_50 = active_likes[2185:len(likes) - 2185]\n",
    "\n",
    "print(\"Likes 1st quartile =\", likes_mid_50[0],\", 3rd quartile =\", likes_mid_50[-1], \".\")\n",
    "print(\"Active users 1st quartile =\", active_likes_mid_50[0],\", 3rd quartile =\", active_likes_mid_50[-1], \".\")"
   ]
  },
  {
   "cell_type": "code",
   "execution_count": 63,
   "metadata": {},
   "outputs": [
    {
     "data": {
      "image/png": "[encoded data removed]",
      "text/plain": [
       "<matplotlib.figure.Figure at 0x1d8704bca20>"
      ]
     },
     "metadata": {},
     "output_type": "display_data"
    }
   ],
   "source": [
    "bins = np.linspace(0, 6000, 60)\n",
    "\n",
    "plt.hist([likes_mid_50, active_likes_mid_50], bins, label=['all', 'active'])\n",
    "plt.legend(loc='upper right')\n",
    "plt.title(\"Mid 50 percentile\")\n",
    "plt.show()"
   ]
  },
  {
   "cell_type": "code",
   "execution_count": 67,
   "metadata": {
    "collapsed": true
   },
   "outputs": [],
   "source": [
    "likes_bottom_25 = likes[0:2185]\n",
    "active_likes_bottom_25 = active_likes[0: 2185]"
   ]
  },
  {
   "cell_type": "code",
   "execution_count": 68,
   "metadata": {},
   "outputs": [
    {
     "data": {
      "image/png": "[encoded data removed]",
      "text/plain": [
       "<matplotlib.figure.Figure at 0x1d86fd8c710>"
      ]
     },
     "metadata": {},
     "output_type": "display_data"
    }
   ],
   "source": [
    "bins = np.linspace(0, 200, 50)\n",
    "\n",
    "plt.hist([likes_bottom_25, active_likes_bottom_25], bins, label=['all', 'active'])\n",
    "plt.legend(loc='upper right')\n",
    "plt.title(\"Bottom 25 percentile\")\n",
    "plt.show()"
   ]
  },
  {
   "cell_type": "code",
   "execution_count": null,
   "metadata": {
    "collapsed": true
   },
   "outputs": [],
   "source": []
  }
 ],
 "metadata": {
  "kernelspec": {
   "display_name": "Python 3",
   "language": "python",
   "name": "python3"
  },
  "language_info": {
   "codemirror_mode": {
    "name": "ipython",
    "version": 3
   },
   "file_extension": ".py",
   "mimetype": "text/x-python",
   "name": "python",
   "nbconvert_exporter": "python",
   "pygments_lexer": "ipython3",
   "version": "3.6.1"
  }
 },
 "nbformat": 4,
 "nbformat_minor": 2
}
