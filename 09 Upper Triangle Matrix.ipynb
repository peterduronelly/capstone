{
 "cells": [
  {
   "cell_type": "code",
   "execution_count": 1,
   "metadata": {
    "collapsed": true
   },
   "outputs": [],
   "source": [
    "import numpy as np\n",
    "from scipy.sparse import coo_matrix\n",
    "%matplotlib inline\n",
    "import matplotlib.pyplot as plt\n",
    "import random"
   ]
  },
  {
   "cell_type": "code",
   "execution_count": 2,
   "metadata": {
    "collapsed": true
   },
   "outputs": [],
   "source": [
    "kijz = list(range(0,15))"
   ]
  },
  {
   "cell_type": "code",
   "execution_count": 20,
   "metadata": {
    "collapsed": true
   },
   "outputs": [],
   "source": [
    "dic = {}\n",
    "random.seed(0)\n",
    "for i in range(0,15):\n",
    "    key = kijz[i]\n",
    "    l = random.sample(range(0,40), random.randint(1,6))\n",
    "    dic[key] = l"
   ]
  },
  {
   "cell_type": "code",
   "execution_count": 21,
   "metadata": {},
   "outputs": [
    {
     "name": "stdout",
     "output_type": "stream",
     "text": [
      "Page 0 : Users  [26, 2, 16, 32]\n",
      "Page 1 : Users  [25, 19, 30, 22]\n",
      "Page 2 : Users  [13, 32, 8, 18, 6]\n",
      "Page 3 : Users  [16, 34, 38, 9, 19]\n",
      "Page 4 : Users  [4]\n",
      "Page 5 : Users  [21, 30, 35, 6, 22, 27]\n",
      "Page 6 : Users  [39, 13, 35]\n",
      "Page 7 : Users  [28, 33, 16, 3]\n",
      "Page 8 : Users  [0, 5, 25, 39, 31]\n",
      "Page 9 : Users  [15, 20, 4]\n",
      "Page 10 : Users  [36, 14]\n",
      "Page 11 : Users  [9, 34]\n",
      "Page 12 : Users  [5, 20, 32, 31]\n",
      "Page 13 : Users  [19]\n",
      "Page 14 : Users  [18, 7, 35, 21, 34]\n"
     ]
    }
   ],
   "source": [
    "for key in dic.keys():\n",
    "    print(\"Page\", key, \": Users \", dic[key])"
   ]
  },
  {
   "cell_type": "code",
   "execution_count": 28,
   "metadata": {
    "collapsed": true
   },
   "outputs": [],
   "source": [
    "r = 0 # the index of the row of the matrix\n",
    "c = 0 # the index of the columns of the matrix\n",
    "row_indices = []\n",
    "column_indices = []\n",
    "matrix_elements = []\n",
    "\n",
    "for key_r in dic.keys(): # key_r is the key for the rows\n",
    "    x = dic[key_r]\n",
    "    for key_c in dic.keys(): # key_c is the key for the columns\n",
    "        if c >= r:\n",
    "            y = dic[key_c]\n",
    "            common_set = list(set(x) & set(y))\n",
    "            common_set_size = len(common_set)\n",
    "            if common_set_size > 0:\n",
    "                row_indices.append(r)\n",
    "                column_indices.append(c)\n",
    "                matrix_elements.append(common_set_size)\n",
    "        c = c + 1\n",
    "    r = r + 1\n",
    "    c = 0"
   ]
  },
  {
   "cell_type": "code",
   "execution_count": 29,
   "metadata": {},
   "outputs": [
    {
     "data": {
      "text/plain": [
       "array([[4, 0, 1, 1, 0, 0, 0, 1, 0, 0, 0, 0, 1, 0, 0],\n",
       "       [0, 4, 0, 1, 0, 2, 0, 0, 1, 0, 0, 0, 0, 1, 0],\n",
       "       [0, 0, 5, 0, 0, 1, 1, 0, 0, 0, 0, 0, 1, 0, 1],\n",
       "       [0, 0, 0, 5, 0, 0, 0, 1, 0, 0, 0, 2, 0, 1, 1],\n",
       "       [0, 0, 0, 0, 1, 0, 0, 0, 0, 1, 0, 0, 0, 0, 0],\n",
       "       [0, 0, 0, 0, 0, 6, 1, 0, 0, 0, 0, 0, 0, 0, 2],\n",
       "       [0, 0, 0, 0, 0, 0, 3, 0, 1, 0, 0, 0, 0, 0, 1],\n",
       "       [0, 0, 0, 0, 0, 0, 0, 4, 0, 0, 0, 0, 0, 0, 0],\n",
       "       [0, 0, 0, 0, 0, 0, 0, 0, 5, 0, 0, 0, 2, 0, 0],\n",
       "       [0, 0, 0, 0, 0, 0, 0, 0, 0, 3, 0, 0, 1, 0, 0],\n",
       "       [0, 0, 0, 0, 0, 0, 0, 0, 0, 0, 2, 0, 0, 0, 0],\n",
       "       [0, 0, 0, 0, 0, 0, 0, 0, 0, 0, 0, 2, 0, 0, 1],\n",
       "       [0, 0, 0, 0, 0, 0, 0, 0, 0, 0, 0, 0, 4, 0, 0],\n",
       "       [0, 0, 0, 0, 0, 0, 0, 0, 0, 0, 0, 0, 0, 1, 0],\n",
       "       [0, 0, 0, 0, 0, 0, 0, 0, 0, 0, 0, 0, 0, 0, 5]])"
      ]
     },
     "execution_count": 29,
     "metadata": {},
     "output_type": "execute_result"
    }
   ],
   "source": [
    "row  = np.array(row_indices)\n",
    "col  = np.array(column_indices)\n",
    "val = np.array(matrix_elements)\n",
    "mx = coo_matrix((val, (row, col)), shape=(15, 15)).toarray()\n",
    "mx"
   ]
  },
  {
   "cell_type": "code",
   "execution_count": 24,
   "metadata": {},
   "outputs": [
    {
     "data": {
      "image/png": "[encoded data removed]",
      "text/plain": [
       "<matplotlib.figure.Figure at 0x1ef0cd78048>"
      ]
     },
     "metadata": {},
     "output_type": "display_data"
    }
   ],
   "source": [
    "plt.spy(mx)\n",
    "plt.show()"
   ]
  },
  {
   "cell_type": "code",
   "execution_count": 25,
   "metadata": {
    "collapsed": true
   },
   "outputs": [],
   "source": [
    "row_indices_2 = row_indices\n",
    "column_indices_2 = column_indices\n",
    "matrix_elements_2 = matrix_elements\n",
    "\n",
    "for i in range(0, len(row_indices)):\n",
    "    if row_indices[i] != column_indices[i]:\n",
    "        column_indices_2.append(row_indices[i])\n",
    "        row_indices_2.append(column_indices[i])\n",
    "        matrix_elements_2.append(matrix_elements[i])"
   ]
  },
  {
   "cell_type": "code",
   "execution_count": 26,
   "metadata": {},
   "outputs": [
    {
     "data": {
      "text/plain": [
       "<15x15 sparse matrix of type '<class 'numpy.int32'>'\n",
       "\twith 63 stored elements in COOrdinate format>"
      ]
     },
     "execution_count": 26,
     "metadata": {},
     "output_type": "execute_result"
    }
   ],
   "source": [
    "row2  = np.array(row_indices_2)\n",
    "col2  = np.array(column_indices_2)\n",
    "val2 = np.array(matrix_elements_2)\n",
    "mx2 = coo_matrix((val2, (row2, col2)), shape=(15, 15))\n",
    "mx2"
   ]
  },
  {
   "cell_type": "code",
   "execution_count": 27,
   "metadata": {},
   "outputs": [
    {
     "data": {
      "image/png": "[encoded data removed]",
      "text/plain": [
       "<matplotlib.figure.Figure at 0x1ef0ce01e80>"
      ]
     },
     "metadata": {},
     "output_type": "display_data"
    }
   ],
   "source": [
    "plt.spy(mx2.toarray())\n",
    "plt.show()"
   ]
  },
  {
   "cell_type": "code",
   "execution_count": null,
   "metadata": {
    "collapsed": true
   },
   "outputs": [],
   "source": []
  }
 ],
 "metadata": {
  "kernelspec": {
   "display_name": "Python 3",
   "language": "python",
   "name": "python3"
  },
  "language_info": {
   "codemirror_mode": {
    "name": "ipython",
    "version": 3
   },
   "file_extension": ".py",
   "mimetype": "text/x-python",
   "name": "python",
   "nbconvert_exporter": "python",
   "pygments_lexer": "ipython3",
   "version": "3.6.1"
  }
 },
 "nbformat": 4,
 "nbformat_minor": 2
}
