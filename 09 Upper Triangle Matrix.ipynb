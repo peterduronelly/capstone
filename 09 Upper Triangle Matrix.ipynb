{
 "cells": [
  {
   "cell_type": "code",
   "execution_count": 30,
   "metadata": {
    "collapsed": true
   },
   "outputs": [],
   "source": [
    "import numpy as np\n",
    "from scipy.sparse import coo_matrix\n",
    "%matplotlib inline\n",
    "import matplotlib.pyplot as plt\n",
    "import random"
   ]
  },
  {
   "cell_type": "code",
   "execution_count": 38,
   "metadata": {},
   "outputs": [],
   "source": [
    "kijz = list(range(0,15))"
   ]
  },
  {
   "cell_type": "code",
   "execution_count": 97,
   "metadata": {},
   "outputs": [],
   "source": [
    "dic = {}\n",
    "for i in range(0,15):\n",
    "    key = kijz[i]\n",
    "    l = random.sample(range(0,20), 4)\n",
    "    dic[key] = l"
   ]
  },
  {
   "cell_type": "code",
   "execution_count": 98,
   "metadata": {},
   "outputs": [
    {
     "name": "stdout",
     "output_type": "stream",
     "text": [
      "[8, 18, 14, 2]\n",
      "[7, 18, 13, 14]\n",
      "[13, 3, 10, 15]\n",
      "[12, 14, 15, 5]\n",
      "[16, 10, 15, 14]\n",
      "[12, 2, 3, 19]\n",
      "[1, 16, 0, 8]\n",
      "[6, 18, 13, 12]\n",
      "[5, 8, 1, 18]\n",
      "[9, 8, 19, 11]\n",
      "[0, 17, 1, 3]\n",
      "[10, 5, 14, 7]\n",
      "[9, 2, 17, 19]\n",
      "[6, 9, 8, 4]\n",
      "[15, 8, 13, 9]\n"
     ]
    }
   ],
   "source": [
    "for key in dic.keys():\n",
    "    print(dic[key])"
   ]
  },
  {
   "cell_type": "code",
   "execution_count": 99,
   "metadata": {},
   "outputs": [],
   "source": [
    "r = 0 # the index of the row of the matrix\n",
    "c = 0 # the index of the columns of the matrix\n",
    "counter = 0\n",
    "row_indices = []\n",
    "column_indices = []\n",
    "matrix_elements = []\n",
    "\n",
    "for key_r in dic.keys(): # key_r is the key for the rows\n",
    "    x = dic[key_r]\n",
    "    for key_c in dic.keys(): # key_c is the key for the columns\n",
    "        if c >= r:\n",
    "            y = dic[key_c]\n",
    "            common_set = list(set(x) & set(y))\n",
    "            common_set_size = len(common_set)\n",
    "            if common_set_size > 0:\n",
    "                row_indices.append(r)\n",
    "                column_indices.append(c)\n",
    "                matrix_elements.append(common_set_size)\n",
    "        c = c + 1\n",
    "    r = r + 1\n",
    "    c = 0"
   ]
  },
  {
   "cell_type": "code",
   "execution_count": 100,
   "metadata": {},
   "outputs": [
    {
     "data": {
      "text/plain": [
       "array([[4, 2, 0, 1, 1, 1, 1, 1, 2, 1, 0, 1, 1, 1, 1],\n",
       "       [0, 4, 1, 1, 1, 0, 0, 2, 1, 0, 0, 2, 0, 0, 1],\n",
       "       [0, 0, 4, 1, 2, 1, 0, 1, 0, 0, 1, 1, 0, 0, 2],\n",
       "       [0, 0, 0, 4, 2, 1, 0, 1, 1, 0, 0, 2, 0, 0, 1],\n",
       "       [0, 0, 0, 0, 4, 0, 1, 0, 0, 0, 0, 2, 0, 0, 1],\n",
       "       [0, 0, 0, 0, 0, 4, 0, 1, 0, 1, 1, 0, 2, 0, 0],\n",
       "       [0, 0, 0, 0, 0, 0, 4, 0, 2, 1, 2, 0, 0, 1, 1],\n",
       "       [0, 0, 0, 0, 0, 0, 0, 4, 1, 0, 0, 0, 0, 1, 1],\n",
       "       [0, 0, 0, 0, 0, 0, 0, 0, 4, 1, 1, 1, 0, 1, 1],\n",
       "       [0, 0, 0, 0, 0, 0, 0, 0, 0, 4, 0, 0, 2, 2, 2],\n",
       "       [0, 0, 0, 0, 0, 0, 0, 0, 0, 0, 4, 0, 1, 0, 0],\n",
       "       [0, 0, 0, 0, 0, 0, 0, 0, 0, 0, 0, 4, 0, 0, 0],\n",
       "       [0, 0, 0, 0, 0, 0, 0, 0, 0, 0, 0, 0, 4, 1, 1],\n",
       "       [0, 0, 0, 0, 0, 0, 0, 0, 0, 0, 0, 0, 0, 4, 2],\n",
       "       [0, 0, 0, 0, 0, 0, 0, 0, 0, 0, 0, 0, 0, 0, 4]])"
      ]
     },
     "execution_count": 100,
     "metadata": {},
     "output_type": "execute_result"
    }
   ],
   "source": [
    "row  = np.array(row_indices)\n",
    "col  = np.array(column_indices)\n",
    "val = np.array(matrix_elements)\n",
    "mx = coo_matrix((val, (row, col)), shape=(15, 15)).toarray()\n",
    "mx"
   ]
  },
  {
   "cell_type": "code",
   "execution_count": 101,
   "metadata": {},
   "outputs": [
    {
     "data": {
      "image/png": "[encoded data removed]",
      "text/plain": [
       "<matplotlib.figure.Figure at 0x1f0c81f9470>"
      ]
     },
     "metadata": {},
     "output_type": "display_data"
    }
   ],
   "source": [
    "plt.spy(mx)\n",
    "plt.show()"
   ]
  },
  {
   "cell_type": "code",
   "execution_count": 102,
   "metadata": {},
   "outputs": [],
   "source": [
    "row_indices_2 = row_indices\n",
    "column_indices_2 = column_indices\n",
    "matrix_elements_2 = matrix_elements\n",
    "\n",
    "for i in range(0, len(row_indices)):\n",
    "    if row_indices[i] != column_indices[i]:\n",
    "        column_indices_2.append(row_indices[i])\n",
    "        row_indices_2.append(column_indices[i])\n",
    "        matrix_elements_2.append(matrix_elements[i])"
   ]
  },
  {
   "cell_type": "code",
   "execution_count": 103,
   "metadata": {},
   "outputs": [
    {
     "data": {
      "text/plain": [
       "array([[4, 2, 0, 1, 1, 1, 1, 1, 2, 1, 0, 1, 1, 1, 1],\n",
       "       [2, 4, 1, 1, 1, 0, 0, 2, 1, 0, 0, 2, 0, 0, 1],\n",
       "       [0, 1, 4, 1, 2, 1, 0, 1, 0, 0, 1, 1, 0, 0, 2],\n",
       "       [1, 1, 1, 4, 2, 1, 0, 1, 1, 0, 0, 2, 0, 0, 1],\n",
       "       [1, 1, 2, 2, 4, 0, 1, 0, 0, 0, 0, 2, 0, 0, 1],\n",
       "       [1, 0, 1, 1, 0, 4, 0, 1, 0, 1, 1, 0, 2, 0, 0],\n",
       "       [1, 0, 0, 0, 1, 0, 4, 0, 2, 1, 2, 0, 0, 1, 1],\n",
       "       [1, 2, 1, 1, 0, 1, 0, 4, 1, 0, 0, 0, 0, 1, 1],\n",
       "       [2, 1, 0, 1, 0, 0, 2, 1, 4, 1, 1, 1, 0, 1, 1],\n",
       "       [1, 0, 0, 0, 0, 1, 1, 0, 1, 4, 0, 0, 2, 2, 2],\n",
       "       [0, 0, 1, 0, 0, 1, 2, 0, 1, 0, 4, 0, 1, 0, 0],\n",
       "       [1, 2, 1, 2, 2, 0, 0, 0, 1, 0, 0, 4, 0, 0, 0],\n",
       "       [1, 0, 0, 0, 0, 2, 0, 0, 0, 2, 1, 0, 4, 1, 1],\n",
       "       [1, 0, 0, 0, 0, 0, 1, 1, 1, 2, 0, 0, 1, 4, 2],\n",
       "       [1, 1, 2, 1, 1, 0, 1, 1, 1, 2, 0, 0, 1, 2, 4]])"
      ]
     },
     "execution_count": 103,
     "metadata": {},
     "output_type": "execute_result"
    }
   ],
   "source": [
    "row2  = np.array(row_indices_2)\n",
    "col2  = np.array(column_indices_2)\n",
    "val2 = np.array(matrix_elements_2)\n",
    "mx2 = coo_matrix((val2, (row2, col2)), shape=(15, 15)).toarray()\n",
    "mx2"
   ]
  },
  {
   "cell_type": "code",
   "execution_count": 104,
   "metadata": {},
   "outputs": [
    {
     "data": {
      "image/png": "[encoded data removed]",
      "text/plain": [
       "<matplotlib.figure.Figure at 0x1f0c8259c18>"
      ]
     },
     "metadata": {},
     "output_type": "display_data"
    }
   ],
   "source": [
    "plt.spy(mx2)\n",
    "plt.show()"
   ]
  },
  {
   "cell_type": "code",
   "execution_count": null,
   "metadata": {
    "collapsed": true
   },
   "outputs": [],
   "source": []
  }
 ],
 "metadata": {
  "kernelspec": {
   "display_name": "Python 3",
   "language": "python",
   "name": "python3"
  },
  "language_info": {
   "codemirror_mode": {
    "name": "ipython",
    "version": 3
   },
   "file_extension": ".py",
   "mimetype": "text/x-python",
   "name": "python",
   "nbconvert_exporter": "python",
   "pygments_lexer": "ipython3",
   "version": "3.6.1"
  }
 },
 "nbformat": 4,
 "nbformat_minor": 2
}
