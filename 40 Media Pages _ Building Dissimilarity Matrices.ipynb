{
 "cells": [
  {
   "cell_type": "code",
   "execution_count": 35,
   "metadata": {
    "collapsed": true
   },
   "outputs": [],
   "source": [
    "import numpy as np\n",
    "from numpy import genfromtxt\n",
    "import pandas as pd\n",
    "import time\n",
    "from scipy.sparse import coo_matrix\n",
    "from scipy.sparse import save_npz"
   ]
  },
  {
   "cell_type": "markdown",
   "metadata": {},
   "source": [
    "<span>1.</span> Import data."
   ]
  },
  {
   "cell_type": "code",
   "execution_count": 2,
   "metadata": {},
   "outputs": [
    {
     "name": "stdout",
     "output_type": "stream",
     "text": [
      "0.6\n"
     ]
    }
   ],
   "source": [
    "t1 = time.time()\n",
    "\n",
    "data = []\n",
    "counter = 0\n",
    "\n",
    "f = open('C:\\\\FOLDERS\\\\CEU\\\\Capstone Project\\\\Data\\\\media\\\\media\\\\magyar media.txt')\n",
    "\n",
    "for line in f:\n",
    "    data.append(line)\n",
    "f.close()\n",
    "\n",
    "print(round((time.time() - t1) / 60, 1))"
   ]
  },
  {
   "cell_type": "code",
   "execution_count": 3,
   "metadata": {},
   "outputs": [
    {
     "data": {
      "text/plain": [
       "58161071"
      ]
     },
     "execution_count": 3,
     "metadata": {},
     "output_type": "execute_result"
    }
   ],
   "source": [
    "len(data)"
   ]
  },
  {
   "cell_type": "markdown",
   "metadata": {},
   "source": [
    "<span>2.</span> Extract page_ids."
   ]
  },
  {
   "cell_type": "code",
   "execution_count": 3,
   "metadata": {
    "collapsed": true
   },
   "outputs": [],
   "source": [
    "page_ids = []  # a list of page_ids\n",
    "\n",
    "for i in range(len(data)):\n",
    "    page_ids.append(data[i].split(\"\\t\")[0])   "
   ]
  },
  {
   "cell_type": "code",
   "execution_count": 18,
   "metadata": {
    "collapsed": true
   },
   "outputs": [],
   "source": [
    "page_ids = sorted(list(set(page_ids))) # to find the distinct page_ids"
   ]
  },
  {
   "cell_type": "markdown",
   "metadata": {},
   "source": [
    "<span>3.</span> Build a dictionary of page likes: keys are page_ids, values are lists of user_ids liking the page."
   ]
  },
  {
   "cell_type": "code",
   "execution_count": 20,
   "metadata": {
    "collapsed": true
   },
   "outputs": [],
   "source": [
    "page_likes = {}"
   ]
  },
  {
   "cell_type": "code",
   "execution_count": 21,
   "metadata": {
    "collapsed": true
   },
   "outputs": [],
   "source": [
    "for element in page_ids:\n",
    "    page_likes[element] = []"
   ]
  },
  {
   "cell_type": "code",
   "execution_count": 22,
   "metadata": {},
   "outputs": [
    {
     "name": "stdout",
     "output_type": "stream",
     "text": [
      "2.0\n"
     ]
    }
   ],
   "source": [
    "t1 = time.time()\n",
    "\n",
    "for i in range(len(data)):\n",
    "    key = data[i].split(\"\\t\")[0]\n",
    "    user = data[i].split(\"\\t\")[3]\n",
    "    page_likes[key].append(user)\n",
    "\n",
    "print(round((time.time() - t1) / 60, 1))"
   ]
  },
  {
   "cell_type": "code",
   "execution_count": 25,
   "metadata": {
    "collapsed": true
   },
   "outputs": [],
   "source": [
    "for key in page_likes.keys():\n",
    "    page_likes[key] = set(page_likes[key])"
   ]
  },
  {
   "cell_type": "markdown",
   "metadata": {},
   "source": [
    "<span>4.</span> Building the sparse matrix."
   ]
  },
  {
   "cell_type": "code",
   "execution_count": 26,
   "metadata": {},
   "outputs": [
    {
     "name": "stdout",
     "output_type": "stream",
     "text": [
      "0.8\n"
     ]
    }
   ],
   "source": [
    "# Build the sparse matrix with the number of common likers. Users should have liked both pages at least twice. \n",
    "\n",
    "r = 0 # the index of the row of the matrix\n",
    "c = 0 # the index of the columns of the matrix\n",
    "row_indices = []\n",
    "column_indices = []\n",
    "matrix_elements = []\n",
    "\n",
    "t1 = time.time()\n",
    "\n",
    "for key_r in page_likes.keys(): # key_r is the key for the rows\n",
    "    x = page_likes[key_r]\n",
    "    for key_c in page_likes.keys(): # key_c is the key for the columns\n",
    "        if c >= r:\n",
    "            y = page_likes[key_c]\n",
    "            common_set = set(x)&set(y)\n",
    "            common_set_size = len(common_set)\n",
    "            if common_set_size > 0:\n",
    "                row_indices.append(r)\n",
    "                column_indices.append(c)\n",
    "                matrix_elements.append(common_set_size)\n",
    "        c = c + 1\n",
    "    r = r + 1\n",
    "    c = 0\n",
    "\n",
    "print(round((time.time() - t1) / 60, 1))"
   ]
  },
  {
   "cell_type": "code",
   "execution_count": 33,
   "metadata": {
    "collapsed": true
   },
   "outputs": [],
   "source": [
    "row_indices_2 = row_indices\n",
    "column_indices_2 = column_indices\n",
    "matrix_elements_2 = matrix_elements\n",
    "\n",
    "for i in range(0, len(row_indices)):\n",
    "    if row_indices[i] != column_indices[i]:\n",
    "        column_indices_2.append(row_indices[i])\n",
    "        row_indices_2.append(column_indices[i])\n",
    "        matrix_elements_2.append(matrix_elements[i])"
   ]
  },
  {
   "cell_type": "code",
   "execution_count": 36,
   "metadata": {
    "collapsed": true
   },
   "outputs": [],
   "source": [
    "size = 86\n",
    "\n",
    "row2  = np.array(row_indices_2)\n",
    "col2  = np.array(column_indices_2)\n",
    "val2 = np.array(matrix_elements_2)\n",
    "mx = coo_matrix((val2, (row2, col2)), shape=(size, size))"
   ]
  },
  {
   "cell_type": "code",
   "execution_count": 38,
   "metadata": {
    "collapsed": true
   },
   "outputs": [],
   "source": [
    "save_npz('C:\\\\FOLDERS\\\\CEU\\\\Capstone Project\\\\Data\\\\media\\\\media\\\\media_pages_sparse_matrix.npz', mx)"
   ]
  },
  {
   "cell_type": "code",
   "execution_count": 39,
   "metadata": {},
   "outputs": [
    {
     "name": "stdout",
     "output_type": "stream",
     "text": [
      "Matrix fill-up = 0.965 .\n"
     ]
    }
   ],
   "source": [
    "print(\"Matrix fill-up =\", round(len(val2) / 86**2, 3), \".\")"
   ]
  },
  {
   "cell_type": "code",
   "execution_count": null,
   "metadata": {
    "collapsed": true
   },
   "outputs": [],
   "source": []
  }
 ],
 "metadata": {
  "kernelspec": {
   "display_name": "Python 3",
   "language": "python",
   "name": "python3"
  },
  "language_info": {
   "codemirror_mode": {
    "name": "ipython",
    "version": 3
   },
   "file_extension": ".py",
   "mimetype": "text/x-python",
   "name": "python",
   "nbconvert_exporter": "python",
   "pygments_lexer": "ipython3",
   "version": "3.6.1"
  }
 },
 "nbformat": 4,
 "nbformat_minor": 2
}
